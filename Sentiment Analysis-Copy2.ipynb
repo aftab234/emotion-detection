{
 "cells": [
  {
   "cell_type": "code",
   "execution_count": 1,
   "id": "33264567-3ad0-42ca-8568-a80f98e70010",
   "metadata": {},
   "outputs": [],
   "source": [
    "#!pip install gensim\n",
    "#!pip install nltk"
   ]
  },
  {
   "cell_type": "code",
   "execution_count": 2,
   "id": "d9bd3be0-21a7-4972-a156-deea9debd034",
   "metadata": {},
   "outputs": [],
   "source": [
    "# DataFrame\n",
    "import pandas as pd\n",
    "\n",
    "# Matplot\n",
    "import matplotlib.pyplot as plt\n",
    "%matplotlib inline\n",
    "\n",
    "# Scikit-learn\n",
    "from sklearn.model_selection import train_test_split\n",
    "from sklearn.preprocessing import LabelEncoder\n",
    "from sklearn.metrics import confusion_matrix, classification_report, accuracy_score\n",
    "from sklearn.manifold import TSNE\n",
    "from sklearn.feature_extraction.text import TfidfVectorizer\n",
    "\n",
    "# Keras\n",
    "from keras.preprocessing.text import Tokenizer\n",
    "from keras.preprocessing.sequence import pad_sequences\n",
    "from keras.models import Sequential\n",
    "from keras.layers import Activation, Dense, Dropout, Embedding, Flatten, Conv1D, MaxPooling1D, LSTM\n",
    "from keras import utils\n",
    "from keras.callbacks import ReduceLROnPlateau, EarlyStopping\n",
    "\n",
    "# nltk\n",
    "import nltk\n",
    "from nltk.corpus import stopwords\n",
    "from  nltk.stem import SnowballStemmer\n",
    "\n",
    "# Word2vec\n",
    "import gensim\n",
    "\n",
    "# Utility\n",
    "import re\n",
    "import numpy as np\n",
    "import os\n",
    "from collections import Counter\n",
    "import logging\n",
    "import time\n",
    "import pickle\n",
    "import itertools\n",
    "\n",
    "# Set log\n",
    "logging.basicConfig(format='%(asctime)s : %(levelname)s : %(message)s', level=logging.INFO)"
   ]
  },
  {
   "cell_type": "code",
   "execution_count": 3,
   "id": "1033a87c-7b68-4894-8079-25ae4fc9a94c",
   "metadata": {},
   "outputs": [
    {
     "name": "stderr",
     "output_type": "stream",
     "text": [
      "[nltk_data] Downloading package stopwords to /root/nltk_data...\n",
      "[nltk_data]   Package stopwords is already up-to-date!\n"
     ]
    },
    {
     "data": {
      "text/plain": [
       "True"
      ]
     },
     "execution_count": 3,
     "metadata": {},
     "output_type": "execute_result"
    }
   ],
   "source": [
    "nltk.download('stopwords')"
   ]
  },
  {
   "cell_type": "code",
   "execution_count": 4,
   "id": "9c409186-b280-4df3-b7ca-3b9035019de7",
   "metadata": {},
   "outputs": [],
   "source": [
    "# DATASET\n",
    "DATASET_COLUMNS = [\"target\", \"ids\", \"date\", \"flag\", \"user\", \"text\"]\n",
    "DATASET_ENCODING = \"ISO-8859-1\"\n",
    "TRAIN_SIZE = 0.8\n",
    "\n",
    "# TEXT CLENAING\n",
    "TEXT_CLEANING_RE = \"@\\S+|https?:\\S+|http?:\\S|[^A-Za-z0-9]+\"\n",
    "\n",
    "# WORD2VEC \n",
    "W2V_SIZE = 300\n",
    "W2V_WINDOW = 7\n",
    "W2V_EPOCH = 32\n",
    "W2V_MIN_COUNT = 10\n",
    "\n",
    "# KERAS\n",
    "SEQUENCE_LENGTH = 300\n",
    "EPOCHS = 15\n",
    "BATCH_SIZE = 1024\n",
    "\n",
    "# SENTIMENT\n",
    "POSITIVE = \"POSITIVE\"\n",
    "NEGATIVE = \"NEGATIVE\"\n",
    "NEUTRAL = \"NEUTRAL\"\n",
    "SENTIMENT_THRESHOLDS = (0.4, 0.7)\n",
    "\n",
    "# EXPORT\n",
    "KERAS_MODEL = \"model.h5\"\n",
    "WORD2VEC_MODEL = \"model.w2v\"\n",
    "TOKENIZER_MODEL = \"tokenizer.pkl\"\n",
    "ENCODER_MODEL = \"encoder.pkl\""
   ]
  },
  {
   "cell_type": "code",
   "execution_count": 5,
   "id": "3034c4fe-c03e-4afe-9edc-72eb188799d1",
   "metadata": {},
   "outputs": [
    {
     "name": "stdout",
     "output_type": "stream",
     "text": [
      "Open file: input/training.1600000.processed.noemoticon.csv\n"
     ]
    }
   ],
   "source": [
    "dataset_filename = os.listdir(\"input\")[0]\n",
    "dataset_path = os.path.join(\"input\",dataset_filename)\n",
    "print(\"Open file:\", dataset_path)\n",
    "df = pd.read_csv(dataset_path, encoding =DATASET_ENCODING , names=DATASET_COLUMNS)"
   ]
  },
  {
   "cell_type": "code",
   "execution_count": 6,
   "id": "48ab43fa-3b17-4b6b-a778-22098b1693f0",
   "metadata": {},
   "outputs": [
    {
     "name": "stdout",
     "output_type": "stream",
     "text": [
      "Dataset size: 1600000\n"
     ]
    }
   ],
   "source": [
    "print(\"Dataset size:\", len(df))"
   ]
  },
  {
   "cell_type": "code",
   "execution_count": 7,
   "id": "d85c1b49-a48f-403b-b51c-d623691e40df",
   "metadata": {},
   "outputs": [
    {
     "data": {
      "text/html": [
       "<div>\n",
       "<style scoped>\n",
       "    .dataframe tbody tr th:only-of-type {\n",
       "        vertical-align: middle;\n",
       "    }\n",
       "\n",
       "    .dataframe tbody tr th {\n",
       "        vertical-align: top;\n",
       "    }\n",
       "\n",
       "    .dataframe thead th {\n",
       "        text-align: right;\n",
       "    }\n",
       "</style>\n",
       "<table border=\"1\" class=\"dataframe\">\n",
       "  <thead>\n",
       "    <tr style=\"text-align: right;\">\n",
       "      <th></th>\n",
       "      <th>target</th>\n",
       "      <th>ids</th>\n",
       "      <th>date</th>\n",
       "      <th>flag</th>\n",
       "      <th>user</th>\n",
       "      <th>text</th>\n",
       "    </tr>\n",
       "  </thead>\n",
       "  <tbody>\n",
       "    <tr>\n",
       "      <th>0</th>\n",
       "      <td>0</td>\n",
       "      <td>1467810369</td>\n",
       "      <td>Mon Apr 06 22:19:45 PDT 2009</td>\n",
       "      <td>NO_QUERY</td>\n",
       "      <td>_TheSpecialOne_</td>\n",
       "      <td>@switchfoot http://twitpic.com/2y1zl - Awww, t...</td>\n",
       "    </tr>\n",
       "    <tr>\n",
       "      <th>1</th>\n",
       "      <td>0</td>\n",
       "      <td>1467810672</td>\n",
       "      <td>Mon Apr 06 22:19:49 PDT 2009</td>\n",
       "      <td>NO_QUERY</td>\n",
       "      <td>scotthamilton</td>\n",
       "      <td>is upset that he can't update his Facebook by ...</td>\n",
       "    </tr>\n",
       "    <tr>\n",
       "      <th>2</th>\n",
       "      <td>0</td>\n",
       "      <td>1467810917</td>\n",
       "      <td>Mon Apr 06 22:19:53 PDT 2009</td>\n",
       "      <td>NO_QUERY</td>\n",
       "      <td>mattycus</td>\n",
       "      <td>@Kenichan I dived many times for the ball. Man...</td>\n",
       "    </tr>\n",
       "    <tr>\n",
       "      <th>3</th>\n",
       "      <td>0</td>\n",
       "      <td>1467811184</td>\n",
       "      <td>Mon Apr 06 22:19:57 PDT 2009</td>\n",
       "      <td>NO_QUERY</td>\n",
       "      <td>ElleCTF</td>\n",
       "      <td>my whole body feels itchy and like its on fire</td>\n",
       "    </tr>\n",
       "    <tr>\n",
       "      <th>4</th>\n",
       "      <td>0</td>\n",
       "      <td>1467811193</td>\n",
       "      <td>Mon Apr 06 22:19:57 PDT 2009</td>\n",
       "      <td>NO_QUERY</td>\n",
       "      <td>Karoli</td>\n",
       "      <td>@nationwideclass no, it's not behaving at all....</td>\n",
       "    </tr>\n",
       "  </tbody>\n",
       "</table>\n",
       "</div>"
      ],
      "text/plain": [
       "   target         ids                          date      flag  \\\n",
       "0       0  1467810369  Mon Apr 06 22:19:45 PDT 2009  NO_QUERY   \n",
       "1       0  1467810672  Mon Apr 06 22:19:49 PDT 2009  NO_QUERY   \n",
       "2       0  1467810917  Mon Apr 06 22:19:53 PDT 2009  NO_QUERY   \n",
       "3       0  1467811184  Mon Apr 06 22:19:57 PDT 2009  NO_QUERY   \n",
       "4       0  1467811193  Mon Apr 06 22:19:57 PDT 2009  NO_QUERY   \n",
       "\n",
       "              user                                               text  \n",
       "0  _TheSpecialOne_  @switchfoot http://twitpic.com/2y1zl - Awww, t...  \n",
       "1    scotthamilton  is upset that he can't update his Facebook by ...  \n",
       "2         mattycus  @Kenichan I dived many times for the ball. Man...  \n",
       "3          ElleCTF    my whole body feels itchy and like its on fire   \n",
       "4           Karoli  @nationwideclass no, it's not behaving at all....  "
      ]
     },
     "execution_count": 7,
     "metadata": {},
     "output_type": "execute_result"
    }
   ],
   "source": [
    "df.head(5)"
   ]
  },
  {
   "cell_type": "code",
   "execution_count": 8,
   "id": "f32bd72a-f6ba-4410-86d5-bdb1ddf6692e",
   "metadata": {},
   "outputs": [],
   "source": [
    "decode_map = {0: \"NEGATIVE\", 2: \"NEUTRAL\", 4: \"POSITIVE\"}\n",
    "def decode_sentiment(label):\n",
    "    return decode_map[int(label)]"
   ]
  },
  {
   "cell_type": "code",
   "execution_count": 9,
   "id": "8fc2ef26-6bfa-496b-b2e6-0a6216a41390",
   "metadata": {},
   "outputs": [
    {
     "name": "stdout",
     "output_type": "stream",
     "text": [
      "CPU times: user 515 ms, sys: 30.5 ms, total: 546 ms\n",
      "Wall time: 545 ms\n"
     ]
    }
   ],
   "source": [
    "%%time\n",
    "df.target = df.target.apply(lambda x: decode_sentiment(x))"
   ]
  },
  {
   "cell_type": "code",
   "execution_count": 10,
   "id": "298c4dfd-9ecc-4644-9cb2-a1ceb02482cd",
   "metadata": {},
   "outputs": [
    {
     "data": {
      "text/plain": [
       "Text(0.5, 1.0, 'Dataset labels distribuition')"
      ]
     },
     "execution_count": 10,
     "metadata": {},
     "output_type": "execute_result"
    },
    {
     "data": {
      "image/png": "[encoded data removed]",
      "text/plain": [
       "<Figure size 1152x576 with 1 Axes>"
      ]
     },
     "metadata": {
      "needs_background": "light"
     },
     "output_type": "display_data"
    }
   ],
   "source": [
    "target_cnt = Counter(df.target)\n",
    "\n",
    "plt.figure(figsize=(16,8))\n",
    "plt.bar(target_cnt.keys(), target_cnt.values())\n",
    "plt.title(\"Dataset labels distribuition\")"
   ]
  },
  {
   "cell_type": "code",
   "execution_count": 11,
   "id": "24e0da86-10d1-48be-a58e-ed1b2a4c3772",
   "metadata": {},
   "outputs": [],
   "source": [
    "stop_words = stopwords.words(\"english\")\n",
    "stemmer = SnowballStemmer(\"english\")"
   ]
  },
  {
   "cell_type": "code",
   "execution_count": 12,
   "id": "df13d574-1815-47ff-8ba1-c821b4ec092e",
   "metadata": {},
   "outputs": [],
   "source": [
    "def preprocess(text, stem=False):\n",
    "    # Remove link,user and special characters\n",
    "    text = re.sub(TEXT_CLEANING_RE, ' ', str(text).lower()).strip()\n",
    "    tokens = []\n",
    "    for token in text.split():\n",
    "        if token not in stop_words:\n",
    "            if stem:\n",
    "                tokens.append(stemmer.stem(token))\n",
    "            else:\n",
    "                tokens.append(token)\n",
    "    return \" \".join(tokens)"
   ]
  },
  {
   "cell_type": "code",
   "execution_count": 13,
   "id": "d0f45e4f-7eef-4af3-a11b-10929a8e1af8",
   "metadata": {},
   "outputs": [
    {
     "name": "stdout",
     "output_type": "stream",
     "text": [
      "CPU times: user 46 s, sys: 290 ms, total: 46.3 s\n",
      "Wall time: 46.4 s\n"
     ]
    }
   ],
   "source": [
    "%%time\n",
    "df.text = df.text.apply(lambda x: preprocess(x))"
   ]
  },
  {
   "cell_type": "code",
   "execution_count": 14,
   "id": "61807dfd-3ecf-4955-9809-1efbef4555ea",
   "metadata": {},
   "outputs": [
    {
     "name": "stdout",
     "output_type": "stream",
     "text": [
      "TRAIN size: 1280000\n",
      "TEST size: 320000\n"
     ]
    }
   ],
   "source": [
    "df_train, df_test = train_test_split(df, test_size=1-TRAIN_SIZE, random_state=42)\n",
    "print(\"TRAIN size:\", len(df_train))\n",
    "print(\"TEST size:\", len(df_test))"
   ]
  },
  {
   "cell_type": "code",
   "execution_count": 15,
   "id": "6f029d16-ad65-440a-bd9e-3cfda5dc9f13",
   "metadata": {},
   "outputs": [
    {
     "name": "stdout",
     "output_type": "stream",
     "text": [
      "CPU times: user 2.93 s, sys: 360 ms, total: 3.29 s\n",
      "Wall time: 3.29 s\n"
     ]
    }
   ],
   "source": [
    "%%time\n",
    "documents = [_text.split() for _text in df_train.text] "
   ]
  },
  {
   "cell_type": "code",
   "execution_count": 16,
   "id": "a5a189a1-4874-40ca-bd24-4ad3fe653a93",
   "metadata": {},
   "outputs": [
    {
     "name": "stderr",
     "output_type": "stream",
     "text": [
      "2022-08-03 17:18:05,772 : INFO : Word2Vec lifecycle event {'params': 'Word2Vec<vocab=0, vector_size=300, alpha=0.025>', 'datetime': '2022-08-03T17:18:05.771639', 'gensim': '4.2.0', 'python': '3.6.9 (default, Jan 26 2021, 15:33:00) \\n[GCC 8.4.0]', 'platform': 'Linux-5.4.0-89-generic-x86_64-with-Ubuntu-18.04-bionic', 'event': 'created'}\n"
     ]
    }
   ],
   "source": [
    "w2v_model = gensim.models.word2vec.Word2Vec(vector_size=W2V_SIZE, \n",
    "                                            window=W2V_WINDOW, \n",
    "                                            min_count=W2V_MIN_COUNT, \n",
    "                                            workers=8)"
   ]
  },
  {
   "cell_type": "code",
   "execution_count": 17,
   "id": "2ff36334-8454-452b-a6bb-846754234756",
   "metadata": {},
   "outputs": [
    {
     "name": "stderr",
     "output_type": "stream",
     "text": [
      "2022-08-03 17:18:05,779 : INFO : collecting all words and their counts\n",
      "2022-08-03 17:18:05,780 : INFO : PROGRESS: at sentence #0, processed 0 words, keeping 0 word types\n",
      "2022-08-03 17:18:05,807 : INFO : PROGRESS: at sentence #10000, processed 72565 words, keeping 14005 word types\n",
      "2022-08-03 17:18:05,830 : INFO : PROGRESS: at sentence #20000, processed 144393 words, keeping 21587 word types\n",
      "2022-08-03 17:18:05,854 : INFO : PROGRESS: at sentence #30000, processed 215826 words, keeping 27541 word types\n",
      "2022-08-03 17:18:05,876 : INFO : PROGRESS: at sentence #40000, processed 288271 words, keeping 32764 word types\n",
      "2022-08-03 17:18:05,900 : INFO : PROGRESS: at sentence #50000, processed 359772 words, keeping 37587 word types\n",
      "2022-08-03 17:18:05,923 : INFO : PROGRESS: at sentence #60000, processed 431431 words, keeping 42198 word types\n",
      "2022-08-03 17:18:05,944 : INFO : PROGRESS: at sentence #70000, processed 503103 words, keeping 46458 word types\n",
      "2022-08-03 17:18:05,965 : INFO : PROGRESS: at sentence #80000, processed 575709 words, keeping 50476 word types\n",
      "2022-08-03 17:18:05,988 : INFO : PROGRESS: at sentence #90000, processed 647100 words, keeping 54140 word types\n",
      "2022-08-03 17:18:06,011 : INFO : PROGRESS: at sentence #100000, processed 718681 words, keeping 57777 word types\n",
      "2022-08-03 17:18:06,033 : INFO : PROGRESS: at sentence #110000, processed 790696 words, keeping 61207 word types\n",
      "2022-08-03 17:18:06,056 : INFO : PROGRESS: at sentence #120000, processed 863134 words, keeping 64583 word types\n",
      "2022-08-03 17:18:06,085 : INFO : PROGRESS: at sentence #130000, processed 935111 words, keeping 67865 word types\n",
      "2022-08-03 17:18:06,117 : INFO : PROGRESS: at sentence #140000, processed 1006668 words, keeping 70966 word types\n",
      "2022-08-03 17:18:06,145 : INFO : PROGRESS: at sentence #150000, processed 1078512 words, keeping 74119 word types\n",
      "2022-08-03 17:18:06,170 : INFO : PROGRESS: at sentence #160000, processed 1149914 words, keeping 77187 word types\n",
      "2022-08-03 17:18:06,196 : INFO : PROGRESS: at sentence #170000, processed 1222145 words, keeping 80267 word types\n",
      "2022-08-03 17:18:06,223 : INFO : PROGRESS: at sentence #180000, processed 1294708 words, keeping 83393 word types\n",
      "2022-08-03 17:18:06,255 : INFO : PROGRESS: at sentence #190000, processed 1367608 words, keeping 86329 word types\n",
      "2022-08-03 17:18:06,281 : INFO : PROGRESS: at sentence #200000, processed 1439469 words, keeping 89103 word types\n",
      "2022-08-03 17:18:06,308 : INFO : PROGRESS: at sentence #210000, processed 1512099 words, keeping 91840 word types\n",
      "2022-08-03 17:18:06,333 : INFO : PROGRESS: at sentence #220000, processed 1584149 words, keeping 94636 word types\n",
      "2022-08-03 17:18:06,359 : INFO : PROGRESS: at sentence #230000, processed 1656354 words, keeping 97353 word types\n",
      "2022-08-03 17:18:06,383 : INFO : PROGRESS: at sentence #240000, processed 1728573 words, keeping 99975 word types\n",
      "2022-08-03 17:18:06,407 : INFO : PROGRESS: at sentence #250000, processed 1801102 words, keeping 102594 word types\n",
      "2022-08-03 17:18:06,432 : INFO : PROGRESS: at sentence #260000, processed 1873103 words, keeping 105162 word types\n",
      "2022-08-03 17:18:06,461 : INFO : PROGRESS: at sentence #270000, processed 1945245 words, keeping 107626 word types\n",
      "2022-08-03 17:18:06,486 : INFO : PROGRESS: at sentence #280000, processed 2017163 words, keeping 110141 word types\n",
      "2022-08-03 17:18:06,511 : INFO : PROGRESS: at sentence #290000, processed 2089574 words, keeping 112539 word types\n",
      "2022-08-03 17:18:06,535 : INFO : PROGRESS: at sentence #300000, processed 2160996 words, keeping 114893 word types\n",
      "2022-08-03 17:18:06,560 : INFO : PROGRESS: at sentence #310000, processed 2232913 words, keeping 117298 word types\n",
      "2022-08-03 17:18:06,584 : INFO : PROGRESS: at sentence #320000, processed 2305039 words, keeping 119693 word types\n",
      "2022-08-03 17:18:06,608 : INFO : PROGRESS: at sentence #330000, processed 2377119 words, keeping 122131 word types\n",
      "2022-08-03 17:18:06,630 : INFO : PROGRESS: at sentence #340000, processed 2449370 words, keeping 124416 word types\n",
      "2022-08-03 17:18:06,655 : INFO : PROGRESS: at sentence #350000, processed 2521564 words, keeping 126669 word types\n",
      "2022-08-03 17:18:06,679 : INFO : PROGRESS: at sentence #360000, processed 2593681 words, keeping 128912 word types\n",
      "2022-08-03 17:18:06,705 : INFO : PROGRESS: at sentence #370000, processed 2665692 words, keeping 131135 word types\n",
      "2022-08-03 17:18:06,731 : INFO : PROGRESS: at sentence #380000, processed 2737859 words, keeping 133403 word types\n",
      "2022-08-03 17:18:06,759 : INFO : PROGRESS: at sentence #390000, processed 2809848 words, keeping 135551 word types\n",
      "2022-08-03 17:18:06,783 : INFO : PROGRESS: at sentence #400000, processed 2882438 words, keeping 137742 word types\n",
      "2022-08-03 17:18:06,808 : INFO : PROGRESS: at sentence #410000, processed 2954075 words, keeping 139909 word types\n",
      "2022-08-03 17:18:06,831 : INFO : PROGRESS: at sentence #420000, processed 3026247 words, keeping 142144 word types\n",
      "2022-08-03 17:18:06,858 : INFO : PROGRESS: at sentence #430000, processed 3098659 words, keeping 144364 word types\n",
      "2022-08-03 17:18:06,882 : INFO : PROGRESS: at sentence #440000, processed 3170663 words, keeping 146439 word types\n",
      "2022-08-03 17:18:06,909 : INFO : PROGRESS: at sentence #450000, processed 3243344 words, keeping 148526 word types\n",
      "2022-08-03 17:18:06,932 : INFO : PROGRESS: at sentence #460000, processed 3315466 words, keeping 150610 word types\n",
      "2022-08-03 17:18:06,957 : INFO : PROGRESS: at sentence #470000, processed 3388295 words, keeping 152737 word types\n",
      "2022-08-03 17:18:06,986 : INFO : PROGRESS: at sentence #480000, processed 3460120 words, keeping 154757 word types\n",
      "2022-08-03 17:18:07,015 : INFO : PROGRESS: at sentence #490000, processed 3531883 words, keeping 156825 word types\n",
      "2022-08-03 17:18:07,044 : INFO : PROGRESS: at sentence #500000, processed 3604217 words, keeping 158859 word types\n",
      "2022-08-03 17:18:07,069 : INFO : PROGRESS: at sentence #510000, processed 3676427 words, keeping 160852 word types\n",
      "2022-08-03 17:18:07,094 : INFO : PROGRESS: at sentence #520000, processed 3749045 words, keeping 162863 word types\n",
      "2022-08-03 17:18:07,118 : INFO : PROGRESS: at sentence #530000, processed 3821622 words, keeping 164929 word types\n",
      "2022-08-03 17:18:07,150 : INFO : PROGRESS: at sentence #540000, processed 3893627 words, keeping 166840 word types\n",
      "2022-08-03 17:18:07,177 : INFO : PROGRESS: at sentence #550000, processed 3965477 words, keeping 168799 word types\n",
      "2022-08-03 17:18:07,203 : INFO : PROGRESS: at sentence #560000, processed 4038050 words, keeping 170802 word types\n",
      "2022-08-03 17:18:07,228 : INFO : PROGRESS: at sentence #570000, processed 4110296 words, keeping 172760 word types\n",
      "2022-08-03 17:18:07,253 : INFO : PROGRESS: at sentence #580000, processed 4182385 words, keeping 174635 word types\n",
      "2022-08-03 17:18:07,296 : INFO : PROGRESS: at sentence #590000, processed 4254632 words, keeping 176470 word types\n",
      "2022-08-03 17:18:07,323 : INFO : PROGRESS: at sentence #600000, processed 4326859 words, keeping 178350 word types\n",
      "2022-08-03 17:18:07,354 : INFO : PROGRESS: at sentence #610000, processed 4399183 words, keeping 180290 word types\n",
      "2022-08-03 17:18:07,385 : INFO : PROGRESS: at sentence #620000, processed 4471343 words, keeping 182129 word types\n",
      "2022-08-03 17:18:07,423 : INFO : PROGRESS: at sentence #630000, processed 4543286 words, keeping 184005 word types\n",
      "2022-08-03 17:18:07,459 : INFO : PROGRESS: at sentence #640000, processed 4615780 words, keeping 185835 word types\n",
      "2022-08-03 17:18:07,492 : INFO : PROGRESS: at sentence #650000, processed 4688481 words, keeping 187705 word types\n",
      "2022-08-03 17:18:07,522 : INFO : PROGRESS: at sentence #660000, processed 4760481 words, keeping 189439 word types\n",
      "2022-08-03 17:18:07,555 : INFO : PROGRESS: at sentence #670000, processed 4833024 words, keeping 191232 word types\n",
      "2022-08-03 17:18:07,589 : INFO : PROGRESS: at sentence #680000, processed 4904516 words, keeping 193177 word types\n",
      "2022-08-03 17:18:07,623 : INFO : PROGRESS: at sentence #690000, processed 4976968 words, keeping 194960 word types\n",
      "2022-08-03 17:18:07,655 : INFO : PROGRESS: at sentence #700000, processed 5049412 words, keeping 196725 word types\n",
      "2022-08-03 17:18:07,686 : INFO : PROGRESS: at sentence #710000, processed 5121976 words, keeping 198516 word types\n",
      "2022-08-03 17:18:07,716 : INFO : PROGRESS: at sentence #720000, processed 5193881 words, keeping 200325 word types\n",
      "2022-08-03 17:18:07,746 : INFO : PROGRESS: at sentence #730000, processed 5265467 words, keeping 202133 word types\n",
      "2022-08-03 17:18:07,785 : INFO : PROGRESS: at sentence #740000, processed 5337518 words, keeping 203818 word types\n",
      "2022-08-03 17:18:07,828 : INFO : PROGRESS: at sentence #750000, processed 5409321 words, keeping 205535 word types\n",
      "2022-08-03 17:18:07,867 : INFO : PROGRESS: at sentence #760000, processed 5481512 words, keeping 207282 word types\n",
      "2022-08-03 17:18:07,896 : INFO : PROGRESS: at sentence #770000, processed 5554093 words, keeping 209076 word types\n",
      "2022-08-03 17:18:07,928 : INFO : PROGRESS: at sentence #780000, processed 5625382 words, keeping 210805 word types\n",
      "2022-08-03 17:18:07,960 : INFO : PROGRESS: at sentence #790000, processed 5698066 words, keeping 212618 word types\n",
      "2022-08-03 17:18:07,991 : INFO : PROGRESS: at sentence #800000, processed 5770880 words, keeping 214374 word types\n",
      "2022-08-03 17:18:08,022 : INFO : PROGRESS: at sentence #810000, processed 5843418 words, keeping 216009 word types\n",
      "2022-08-03 17:18:08,057 : INFO : PROGRESS: at sentence #820000, processed 5915628 words, keeping 217804 word types\n",
      "2022-08-03 17:18:08,087 : INFO : PROGRESS: at sentence #830000, processed 5987499 words, keeping 219585 word types\n",
      "2022-08-03 17:18:08,120 : INFO : PROGRESS: at sentence #840000, processed 6058973 words, keeping 221344 word types\n",
      "2022-08-03 17:18:08,158 : INFO : PROGRESS: at sentence #850000, processed 6131125 words, keeping 223002 word types\n",
      "2022-08-03 17:18:08,200 : INFO : PROGRESS: at sentence #860000, processed 6202951 words, keeping 224643 word types\n",
      "2022-08-03 17:18:08,248 : INFO : PROGRESS: at sentence #870000, processed 6275461 words, keeping 226362 word types\n",
      "2022-08-03 17:18:08,291 : INFO : PROGRESS: at sentence #880000, processed 6347661 words, keeping 227986 word types\n",
      "2022-08-03 17:18:08,327 : INFO : PROGRESS: at sentence #890000, processed 6419806 words, keeping 229634 word types\n",
      "2022-08-03 17:18:08,360 : INFO : PROGRESS: at sentence #900000, processed 6491644 words, keeping 231389 word types\n",
      "2022-08-03 17:18:08,392 : INFO : PROGRESS: at sentence #910000, processed 6564022 words, keeping 233050 word types\n",
      "2022-08-03 17:18:08,423 : INFO : PROGRESS: at sentence #920000, processed 6636228 words, keeping 234686 word types\n",
      "2022-08-03 17:18:08,451 : INFO : PROGRESS: at sentence #930000, processed 6708573 words, keeping 236393 word types\n",
      "2022-08-03 17:18:08,486 : INFO : PROGRESS: at sentence #940000, processed 6779956 words, keeping 238052 word types\n",
      "2022-08-03 17:18:08,519 : INFO : PROGRESS: at sentence #950000, processed 6852599 words, keeping 239716 word types\n",
      "2022-08-03 17:18:08,548 : INFO : PROGRESS: at sentence #960000, processed 6924717 words, keeping 241354 word types\n",
      "2022-08-03 17:18:08,579 : INFO : PROGRESS: at sentence #970000, processed 6996992 words, keeping 242980 word types\n",
      "2022-08-03 17:18:08,611 : INFO : PROGRESS: at sentence #980000, processed 7068402 words, keeping 244646 word types\n",
      "2022-08-03 17:18:08,637 : INFO : PROGRESS: at sentence #990000, processed 7140346 words, keeping 246186 word types\n",
      "2022-08-03 17:18:08,666 : INFO : PROGRESS: at sentence #1000000, processed 7211757 words, keeping 247726 word types\n",
      "2022-08-03 17:18:08,700 : INFO : PROGRESS: at sentence #1010000, processed 7283267 words, keeping 249288 word types\n",
      "2022-08-03 17:18:08,728 : INFO : PROGRESS: at sentence #1020000, processed 7355299 words, keeping 250860 word types\n",
      "2022-08-03 17:18:08,758 : INFO : PROGRESS: at sentence #1030000, processed 7426918 words, keeping 252366 word types\n",
      "2022-08-03 17:18:08,791 : INFO : PROGRESS: at sentence #1040000, processed 7498815 words, keeping 253930 word types\n",
      "2022-08-03 17:18:08,824 : INFO : PROGRESS: at sentence #1050000, processed 7570499 words, keeping 255471 word types\n",
      "2022-08-03 17:18:08,864 : INFO : PROGRESS: at sentence #1060000, processed 7643251 words, keeping 257035 word types\n",
      "2022-08-03 17:18:08,911 : INFO : PROGRESS: at sentence #1070000, processed 7714721 words, keeping 258509 word types\n",
      "2022-08-03 17:18:08,941 : INFO : PROGRESS: at sentence #1080000, processed 7787371 words, keeping 260071 word types\n",
      "2022-08-03 17:18:08,973 : INFO : PROGRESS: at sentence #1090000, processed 7859336 words, keeping 261683 word types\n",
      "2022-08-03 17:18:09,008 : INFO : PROGRESS: at sentence #1100000, processed 7932029 words, keeping 263278 word types\n",
      "2022-08-03 17:18:09,043 : INFO : PROGRESS: at sentence #1110000, processed 8004146 words, keeping 264800 word types\n",
      "2022-08-03 17:18:09,080 : INFO : PROGRESS: at sentence #1120000, processed 8075880 words, keeping 266309 word types\n",
      "2022-08-03 17:18:09,116 : INFO : PROGRESS: at sentence #1130000, processed 8148163 words, keeping 267826 word types\n",
      "2022-08-03 17:18:09,152 : INFO : PROGRESS: at sentence #1140000, processed 8220487 words, keeping 269391 word types\n",
      "2022-08-03 17:18:09,183 : INFO : PROGRESS: at sentence #1150000, processed 8292498 words, keeping 270894 word types\n",
      "2022-08-03 17:18:09,210 : INFO : PROGRESS: at sentence #1160000, processed 8363838 words, keeping 272400 word types\n",
      "2022-08-03 17:18:09,248 : INFO : PROGRESS: at sentence #1170000, processed 8435510 words, keeping 273970 word types\n",
      "2022-08-03 17:18:09,290 : INFO : PROGRESS: at sentence #1180000, processed 8507795 words, keeping 275521 word types\n",
      "2022-08-03 17:18:09,336 : INFO : PROGRESS: at sentence #1190000, processed 8579080 words, keeping 277007 word types\n",
      "2022-08-03 17:18:09,383 : INFO : PROGRESS: at sentence #1200000, processed 8650606 words, keeping 278457 word types\n",
      "2022-08-03 17:18:09,430 : INFO : PROGRESS: at sentence #1210000, processed 8721893 words, keeping 279959 word types\n",
      "2022-08-03 17:18:09,483 : INFO : PROGRESS: at sentence #1220000, processed 8793795 words, keeping 281427 word types\n",
      "2022-08-03 17:18:09,520 : INFO : PROGRESS: at sentence #1230000, processed 8865726 words, keeping 282981 word types\n",
      "2022-08-03 17:18:09,546 : INFO : PROGRESS: at sentence #1240000, processed 8938173 words, keeping 284542 word types\n",
      "2022-08-03 17:18:09,579 : INFO : PROGRESS: at sentence #1250000, processed 9010842 words, keeping 286064 word types\n",
      "2022-08-03 17:18:09,611 : INFO : PROGRESS: at sentence #1260000, processed 9083261 words, keeping 287521 word types\n",
      "2022-08-03 17:18:09,638 : INFO : PROGRESS: at sentence #1270000, processed 9155616 words, keeping 288987 word types\n",
      "2022-08-03 17:18:09,663 : INFO : collected 290418 word types from a corpus of 9227204 raw words and 1280000 sentences\n",
      "2022-08-03 17:18:09,664 : INFO : Creating a fresh vocabulary\n",
      "2022-08-03 17:18:09,914 : INFO : Word2Vec lifecycle event {'msg': 'effective_min_count=10 retains 30369 unique words (10.46% of original 290418, drops 260049)', 'datetime': '2022-08-03T17:18:09.914549', 'gensim': '4.2.0', 'python': '3.6.9 (default, Jan 26 2021, 15:33:00) \\n[GCC 8.4.0]', 'platform': 'Linux-5.4.0-89-generic-x86_64-with-Ubuntu-18.04-bionic', 'event': 'prepare_vocab'}\n",
      "2022-08-03 17:18:09,915 : INFO : Word2Vec lifecycle event {'msg': 'effective_min_count=10 leaves 8780739 word corpus (95.16% of original 9227204, drops 446465)', 'datetime': '2022-08-03T17:18:09.915578', 'gensim': '4.2.0', 'python': '3.6.9 (default, Jan 26 2021, 15:33:00) \\n[GCC 8.4.0]', 'platform': 'Linux-5.4.0-89-generic-x86_64-with-Ubuntu-18.04-bionic', 'event': 'prepare_vocab'}\n",
      "2022-08-03 17:18:10,157 : INFO : deleting the raw counts dictionary of 290418 items\n",
      "2022-08-03 17:18:10,166 : INFO : sample=0.001 downsamples 45 most-common words\n",
      "2022-08-03 17:18:10,167 : INFO : Word2Vec lifecycle event {'msg': 'downsampling leaves estimated 8222658.616429881 word corpus (93.6%% of prior 8780739)', 'datetime': '2022-08-03T17:18:10.167534', 'gensim': '4.2.0', 'python': '3.6.9 (default, Jan 26 2021, 15:33:00) \\n[GCC 8.4.0]', 'platform': 'Linux-5.4.0-89-generic-x86_64-with-Ubuntu-18.04-bionic', 'event': 'prepare_vocab'}\n",
      "2022-08-03 17:18:10,560 : INFO : estimated required memory for 30369 words and 300 dimensions: 88070100 bytes\n",
      "2022-08-03 17:18:10,561 : INFO : resetting layer weights\n",
      "2022-08-03 17:18:10,622 : INFO : Word2Vec lifecycle event {'update': False, 'trim_rule': 'None', 'datetime': '2022-08-03T17:18:10.622448', 'gensim': '4.2.0', 'python': '3.6.9 (default, Jan 26 2021, 15:33:00) \\n[GCC 8.4.0]', 'platform': 'Linux-5.4.0-89-generic-x86_64-with-Ubuntu-18.04-bionic', 'event': 'build_vocab'}\n"
     ]
    }
   ],
   "source": [
    "w2v_model.build_vocab(documents)"
   ]
  },
  {
   "cell_type": "code",
   "execution_count": 18,
   "id": "3c94d226-6a5a-4e24-9e38-b1c74649afdd",
   "metadata": {},
   "outputs": [
    {
     "name": "stdout",
     "output_type": "stream",
     "text": [
      "Vocab size 30369\n"
     ]
    }
   ],
   "source": [
    "words = list(w2v_model.wv.index_to_key)\n",
    "vocab_size = len(words)\n",
    "print(\"Vocab size\", vocab_size)"
   ]
  },
  {
   "cell_type": "code",
   "execution_count": 19,
   "id": "ff99caf3-3edb-40b0-ba76-3d5a8fa688d1",
   "metadata": {
    "tags": []
   },
   "outputs": [
    {
     "name": "stderr",
     "output_type": "stream",
     "text": [
      "2022-08-03 17:18:10,637 : INFO : Word2Vec lifecycle event {'msg': 'training model with 8 workers on 30369 vocabulary and 300 features, using sg=0 hs=0 sample=0.001 negative=5 window=7 shrink_windows=True', 'datetime': '2022-08-03T17:18:10.637778', 'gensim': '4.2.0', 'python': '3.6.9 (default, Jan 26 2021, 15:33:00) \\n[GCC 8.4.0]', 'platform': 'Linux-5.4.0-89-generic-x86_64-with-Ubuntu-18.04-bionic', 'event': 'train'}\n",
      "2022-08-03 17:18:11,660 : INFO : EPOCH 0 - PROGRESS: at 9.45% examples, 765433 words/s, in_qsize 16, out_qsize 0\n",
      "2022-08-03 17:18:12,672 : INFO : EPOCH 0 - PROGRESS: at 19.40% examples, 787674 words/s, in_qsize 15, out_qsize 0\n",
      "2022-08-03 17:18:13,691 : INFO : EPOCH 0 - PROGRESS: at 31.97% examples, 863615 words/s, in_qsize 15, out_qsize 0\n",
      "2022-08-03 17:18:14,701 : INFO : EPOCH 0 - PROGRESS: at 43.75% examples, 887909 words/s, in_qsize 16, out_qsize 1\n",
      "2022-08-03 17:18:15,705 : INFO : EPOCH 0 - PROGRESS: at 56.51% examples, 919495 words/s, in_qsize 16, out_qsize 0\n",
      "2022-08-03 17:18:16,716 : INFO : EPOCH 0 - PROGRESS: at 68.85% examples, 933727 words/s, in_qsize 14, out_qsize 1\n",
      "2022-08-03 17:18:17,717 : INFO : EPOCH 0 - PROGRESS: at 80.80% examples, 940053 words/s, in_qsize 15, out_qsize 0\n",
      "2022-08-03 17:18:18,717 : INFO : EPOCH 0 - PROGRESS: at 93.05% examples, 948249 words/s, in_qsize 15, out_qsize 0\n",
      "2022-08-03 17:18:19,221 : INFO : EPOCH 0: training on 9227204 raw words (8222730 effective words) took 8.6s, 959130 effective words/s\n",
      "2022-08-03 17:18:20,243 : INFO : EPOCH 1 - PROGRESS: at 12.17% examples, 989162 words/s, in_qsize 16, out_qsize 0\n",
      "2022-08-03 17:18:21,252 : INFO : EPOCH 1 - PROGRESS: at 23.85% examples, 970816 words/s, in_qsize 15, out_qsize 0\n",
      "2022-08-03 17:18:22,271 : INFO : EPOCH 1 - PROGRESS: at 36.18% examples, 979665 words/s, in_qsize 15, out_qsize 0\n",
      "2022-08-03 17:18:23,284 : INFO : EPOCH 1 - PROGRESS: at 47.22% examples, 958955 words/s, in_qsize 13, out_qsize 1\n",
      "2022-08-03 17:18:24,295 : INFO : EPOCH 1 - PROGRESS: at 57.38% examples, 932878 words/s, in_qsize 15, out_qsize 0\n",
      "2022-08-03 17:18:25,299 : INFO : EPOCH 1 - PROGRESS: at 69.61% examples, 944431 words/s, in_qsize 13, out_qsize 2\n",
      "2022-08-03 17:18:26,325 : INFO : EPOCH 1 - PROGRESS: at 81.01% examples, 939590 words/s, in_qsize 15, out_qsize 0\n",
      "2022-08-03 17:18:27,336 : INFO : EPOCH 1 - PROGRESS: at 89.02% examples, 903678 words/s, in_qsize 16, out_qsize 0\n",
      "2022-08-03 17:18:28,341 : INFO : EPOCH 1 - PROGRESS: at 97.29% examples, 878290 words/s, in_qsize 15, out_qsize 0\n",
      "2022-08-03 17:18:28,655 : INFO : EPOCH 1: training on 9227204 raw words (8221816 effective words) took 9.4s, 872734 effective words/s\n",
      "2022-08-03 17:18:29,679 : INFO : EPOCH 2 - PROGRESS: at 8.37% examples, 681850 words/s, in_qsize 15, out_qsize 0\n",
      "2022-08-03 17:18:30,688 : INFO : EPOCH 2 - PROGRESS: at 20.27% examples, 826620 words/s, in_qsize 15, out_qsize 0\n",
      "2022-08-03 17:18:31,691 : INFO : EPOCH 2 - PROGRESS: at 31.21% examples, 850306 words/s, in_qsize 15, out_qsize 0\n",
      "2022-08-03 17:18:32,692 : INFO : EPOCH 2 - PROGRESS: at 41.26% examples, 844679 words/s, in_qsize 16, out_qsize 0\n",
      "2022-08-03 17:18:33,706 : INFO : EPOCH 2 - PROGRESS: at 52.29% examples, 855048 words/s, in_qsize 15, out_qsize 0\n",
      "2022-08-03 17:18:34,711 : INFO : EPOCH 2 - PROGRESS: at 64.40% examples, 878073 words/s, in_qsize 15, out_qsize 0\n",
      "2022-08-03 17:18:35,718 : INFO : EPOCH 2 - PROGRESS: at 76.33% examples, 891645 words/s, in_qsize 14, out_qsize 1\n",
      "2022-08-03 17:18:36,729 : INFO : EPOCH 2 - PROGRESS: at 88.69% examples, 905849 words/s, in_qsize 15, out_qsize 0\n",
      "2022-08-03 17:18:37,601 : INFO : EPOCH 2: training on 9227204 raw words (8223800 effective words) took 8.9s, 921147 effective words/s\n",
      "2022-08-03 17:18:38,619 : INFO : EPOCH 3 - PROGRESS: at 8.80% examples, 718046 words/s, in_qsize 14, out_qsize 2\n",
      "2022-08-03 17:18:39,622 : INFO : EPOCH 3 - PROGRESS: at 20.59% examples, 842756 words/s, in_qsize 15, out_qsize 1\n",
      "2022-08-03 17:18:40,647 : INFO : EPOCH 3 - PROGRESS: at 32.19% examples, 872448 words/s, in_qsize 14, out_qsize 1\n",
      "2022-08-03 17:18:41,654 : INFO : EPOCH 3 - PROGRESS: at 44.62% examples, 908433 words/s, in_qsize 15, out_qsize 0\n",
      "2022-08-03 17:18:42,654 : INFO : EPOCH 3 - PROGRESS: at 57.06% examples, 931468 words/s, in_qsize 15, out_qsize 0\n",
      "2022-08-03 17:18:43,659 : INFO : EPOCH 3 - PROGRESS: at 69.18% examples, 941684 words/s, in_qsize 16, out_qsize 0\n",
      "2022-08-03 17:18:44,660 : INFO : EPOCH 3 - PROGRESS: at 78.51% examples, 916565 words/s, in_qsize 13, out_qsize 2\n",
      "2022-08-03 17:18:45,662 : INFO : EPOCH 3 - PROGRESS: at 86.53% examples, 884350 words/s, in_qsize 15, out_qsize 3\n",
      "2022-08-03 17:18:46,690 : INFO : EPOCH 3 - PROGRESS: at 96.09% examples, 870526 words/s, in_qsize 16, out_qsize 0\n",
      "2022-08-03 17:18:46,971 : INFO : EPOCH 3: training on 9227204 raw words (8222204 effective words) took 9.4s, 878732 effective words/s\n",
      "2022-08-03 17:18:47,991 : INFO : EPOCH 4 - PROGRESS: at 11.30% examples, 920889 words/s, in_qsize 14, out_qsize 1\n",
      "2022-08-03 17:18:49,014 : INFO : EPOCH 4 - PROGRESS: at 23.74% examples, 961300 words/s, in_qsize 14, out_qsize 1\n",
      "2022-08-03 17:18:50,017 : INFO : EPOCH 4 - PROGRESS: at 35.86% examples, 972543 words/s, in_qsize 15, out_qsize 0\n",
      "2022-08-03 17:18:51,021 : INFO : EPOCH 4 - PROGRESS: at 46.78% examples, 953638 words/s, in_qsize 15, out_qsize 0\n",
      "2022-08-03 17:18:52,030 : INFO : EPOCH 4 - PROGRESS: at 59.12% examples, 964315 words/s, in_qsize 16, out_qsize 0\n",
      "2022-08-03 17:18:53,064 : INFO : EPOCH 4 - PROGRESS: at 71.13% examples, 962993 words/s, in_qsize 15, out_qsize 2\n",
      "2022-08-03 17:18:54,082 : INFO : EPOCH 4 - PROGRESS: at 82.96% examples, 961629 words/s, in_qsize 15, out_qsize 0\n",
      "2022-08-03 17:18:55,088 : INFO : EPOCH 4 - PROGRESS: at 94.91% examples, 963017 words/s, in_qsize 15, out_qsize 0\n",
      "2022-08-03 17:18:55,487 : INFO : EPOCH 4: training on 9227204 raw words (8223139 effective words) took 8.5s, 967236 effective words/s\n",
      "2022-08-03 17:18:56,506 : INFO : EPOCH 5 - PROGRESS: at 11.51% examples, 938956 words/s, in_qsize 15, out_qsize 0\n",
      "2022-08-03 17:18:57,511 : INFO : EPOCH 5 - PROGRESS: at 23.31% examples, 952507 words/s, in_qsize 16, out_qsize 0\n",
      "2022-08-03 17:18:58,520 : INFO : EPOCH 5 - PROGRESS: at 33.38% examples, 908572 words/s, in_qsize 14, out_qsize 1\n",
      "2022-08-03 17:18:59,524 : INFO : EPOCH 5 - PROGRESS: at 44.72% examples, 914289 words/s, in_qsize 16, out_qsize 0\n",
      "2022-08-03 17:19:00,539 : INFO : EPOCH 5 - PROGRESS: at 56.08% examples, 915948 words/s, in_qsize 16, out_qsize 0\n",
      "2022-08-03 17:19:01,579 : INFO : EPOCH 5 - PROGRESS: at 66.04% examples, 893968 words/s, in_qsize 14, out_qsize 2\n",
      "2022-08-03 17:19:02,617 : INFO : EPOCH 5 - PROGRESS: at 76.11% examples, 879945 words/s, in_qsize 16, out_qsize 1\n",
      "2022-08-03 17:19:03,629 : INFO : EPOCH 5 - PROGRESS: at 88.59% examples, 896472 words/s, in_qsize 14, out_qsize 1\n",
      "2022-08-03 17:19:04,516 : INFO : EPOCH 5: training on 9227204 raw words (8222933 effective words) took 9.0s, 911981 effective words/s\n",
      "2022-08-03 17:19:05,557 : INFO : EPOCH 6 - PROGRESS: at 10.97% examples, 881870 words/s, in_qsize 14, out_qsize 1\n",
      "2022-08-03 17:19:06,559 : INFO : EPOCH 6 - PROGRESS: at 19.08% examples, 775496 words/s, in_qsize 16, out_qsize 0\n",
      "2022-08-03 17:19:07,576 : INFO : EPOCH 6 - PROGRESS: at 27.10% examples, 732985 words/s, in_qsize 16, out_qsize 0\n",
      "2022-08-03 17:19:08,592 : INFO : EPOCH 6 - PROGRESS: at 34.46% examples, 698733 words/s, in_qsize 15, out_qsize 2\n",
      "2022-08-03 17:19:09,594 : INFO : EPOCH 6 - PROGRESS: at 45.70% examples, 743485 words/s, in_qsize 14, out_qsize 1\n",
      "2022-08-03 17:19:10,614 : INFO : EPOCH 6 - PROGRESS: at 57.16% examples, 774166 words/s, in_qsize 14, out_qsize 1\n",
      "2022-08-03 17:19:11,624 : INFO : EPOCH 6 - PROGRESS: at 66.91% examples, 777021 words/s, in_qsize 15, out_qsize 0\n",
      "2022-08-03 17:19:12,629 : INFO : EPOCH 6 - PROGRESS: at 77.20% examples, 784972 words/s, in_qsize 16, out_qsize 0\n",
      "2022-08-03 17:19:13,635 : INFO : EPOCH 6 - PROGRESS: at 88.48% examples, 800029 words/s, in_qsize 15, out_qsize 0\n",
      "2022-08-03 17:19:14,524 : INFO : EPOCH 6: training on 9227204 raw words (8223357 effective words) took 10.0s, 823431 effective words/s\n",
      "2022-08-03 17:19:15,539 : INFO : EPOCH 7 - PROGRESS: at 11.51% examples, 943500 words/s, in_qsize 15, out_qsize 0\n",
      "2022-08-03 17:19:16,545 : INFO : EPOCH 7 - PROGRESS: at 23.20% examples, 949935 words/s, in_qsize 13, out_qsize 2\n",
      "2022-08-03 17:19:17,546 : INFO : EPOCH 7 - PROGRESS: at 35.65% examples, 974486 words/s, in_qsize 13, out_qsize 2\n",
      "2022-08-03 17:19:18,562 : INFO : EPOCH 7 - PROGRESS: at 47.32% examples, 967484 words/s, in_qsize 15, out_qsize 2\n",
      "2022-08-03 17:19:19,572 : INFO : EPOCH 7 - PROGRESS: at 59.98% examples, 980482 words/s, in_qsize 15, out_qsize 0\n",
      "2022-08-03 17:19:20,572 : INFO : EPOCH 7 - PROGRESS: at 71.35% examples, 972949 words/s, in_qsize 16, out_qsize 1\n",
      "2022-08-03 17:19:21,580 : INFO : EPOCH 7 - PROGRESS: at 80.79% examples, 943753 words/s, in_qsize 15, out_qsize 0\n",
      "2022-08-03 17:19:22,589 : INFO : EPOCH 7 - PROGRESS: at 89.13% examples, 910673 words/s, in_qsize 15, out_qsize 0\n",
      "2022-08-03 17:19:23,582 : INFO : EPOCH 7: training on 9227204 raw words (8222677 effective words) took 9.0s, 909197 effective words/s\n",
      "2022-08-03 17:19:24,606 : INFO : EPOCH 8 - PROGRESS: at 11.95% examples, 978699 words/s, in_qsize 15, out_qsize 0\n",
      "2022-08-03 17:19:25,633 : INFO : EPOCH 8 - PROGRESS: at 24.61% examples, 996751 words/s, in_qsize 14, out_qsize 1\n",
      "2022-08-03 17:19:26,650 : INFO : EPOCH 8 - PROGRESS: at 36.51% examples, 985641 words/s, in_qsize 14, out_qsize 1\n",
      "2022-08-03 17:19:27,651 : INFO : EPOCH 8 - PROGRESS: at 48.40% examples, 984097 words/s, in_qsize 15, out_qsize 0\n",
      "2022-08-03 17:19:28,651 : INFO : EPOCH 8 - PROGRESS: at 60.41% examples, 984919 words/s, in_qsize 14, out_qsize 1\n",
      "2022-08-03 17:19:29,652 : INFO : EPOCH 8 - PROGRESS: at 72.64% examples, 988307 words/s, in_qsize 15, out_qsize 0\n",
      "2022-08-03 17:19:30,666 : INFO : EPOCH 8 - PROGRESS: at 84.91% examples, 988967 words/s, in_qsize 15, out_qsize 0\n",
      "2022-08-03 17:19:31,672 : INFO : EPOCH 8 - PROGRESS: at 97.61% examples, 994741 words/s, in_qsize 15, out_qsize 0\n",
      "2022-08-03 17:19:31,827 : INFO : EPOCH 8: training on 9227204 raw words (8222104 effective words) took 8.2s, 999966 effective words/s\n",
      "2022-08-03 17:19:32,849 : INFO : EPOCH 9 - PROGRESS: at 12.28% examples, 1005339 words/s, in_qsize 14, out_qsize 2\n",
      "2022-08-03 17:19:33,884 : INFO : EPOCH 9 - PROGRESS: at 24.61% examples, 992887 words/s, in_qsize 15, out_qsize 0\n",
      "2022-08-03 17:19:34,886 : INFO : EPOCH 9 - PROGRESS: at 37.37% examples, 1011477 words/s, in_qsize 16, out_qsize 0\n",
      "2022-08-03 17:19:35,909 : INFO : EPOCH 9 - PROGRESS: at 50.45% examples, 1022191 words/s, in_qsize 15, out_qsize 0\n",
      "2022-08-03 17:19:36,912 : INFO : EPOCH 9 - PROGRESS: at 62.79% examples, 1020289 words/s, in_qsize 15, out_qsize 0\n",
      "2022-08-03 17:19:37,951 : INFO : EPOCH 9 - PROGRESS: at 75.13% examples, 1012876 words/s, in_qsize 14, out_qsize 1\n",
      "2022-08-03 17:19:38,984 : INFO : EPOCH 9 - PROGRESS: at 87.94% examples, 1013585 words/s, in_qsize 16, out_qsize 2\n",
      "2022-08-03 17:19:39,888 : INFO : EPOCH 9: training on 9227204 raw words (8222703 effective words) took 8.0s, 1022608 effective words/s\n",
      "2022-08-03 17:19:40,914 : INFO : EPOCH 10 - PROGRESS: at 10.53% examples, 853391 words/s, in_qsize 14, out_qsize 1\n",
      "2022-08-03 17:19:41,919 : INFO : EPOCH 10 - PROGRESS: at 23.52% examples, 958018 words/s, in_qsize 14, out_qsize 1\n",
      "2022-08-03 17:19:42,932 : INFO : EPOCH 10 - PROGRESS: at 34.68% examples, 940744 words/s, in_qsize 16, out_qsize 1\n",
      "2022-08-03 17:19:43,939 : INFO : EPOCH 10 - PROGRESS: at 46.67% examples, 950878 words/s, in_qsize 16, out_qsize 0\n",
      "2022-08-03 17:19:44,940 : INFO : EPOCH 10 - PROGRESS: at 58.79% examples, 960115 words/s, in_qsize 16, out_qsize 0\n",
      "2022-08-03 17:19:45,956 : INFO : EPOCH 10 - PROGRESS: at 70.91% examples, 963708 words/s, in_qsize 15, out_qsize 0\n",
      "2022-08-03 17:19:46,970 : INFO : EPOCH 10 - PROGRESS: at 81.77% examples, 951393 words/s, in_qsize 15, out_qsize 0\n",
      "2022-08-03 17:19:48,017 : INFO : EPOCH 10 - PROGRESS: at 91.20% examples, 924193 words/s, in_qsize 14, out_qsize 1\n",
      "2022-08-03 17:19:48,871 : INFO : EPOCH 10: training on 9227204 raw words (8222597 effective words) took 9.0s, 916641 effective words/s\n",
      "2022-08-03 17:19:49,888 : INFO : EPOCH 11 - PROGRESS: at 10.53% examples, 863610 words/s, in_qsize 14, out_qsize 1\n",
      "2022-08-03 17:19:50,892 : INFO : EPOCH 11 - PROGRESS: at 22.76% examples, 933053 words/s, in_qsize 16, out_qsize 0\n",
      "2022-08-03 17:19:51,894 : INFO : EPOCH 11 - PROGRESS: at 34.46% examples, 942104 words/s, in_qsize 15, out_qsize 0\n",
      "2022-08-03 17:19:52,897 : INFO : EPOCH 11 - PROGRESS: at 47.10% examples, 966203 words/s, in_qsize 14, out_qsize 1\n",
      "2022-08-03 17:19:53,909 : INFO : EPOCH 11 - PROGRESS: at 58.58% examples, 959607 words/s, in_qsize 11, out_qsize 4\n",
      "2022-08-03 17:19:54,917 : INFO : EPOCH 11 - PROGRESS: at 70.81% examples, 966093 words/s, in_qsize 15, out_qsize 0\n",
      "2022-08-03 17:19:55,919 : INFO : EPOCH 11 - PROGRESS: at 83.07% examples, 971534 words/s, in_qsize 15, out_qsize 0\n",
      "2022-08-03 17:19:56,920 : INFO : EPOCH 11 - PROGRESS: at 95.12% examples, 973470 words/s, in_qsize 15, out_qsize 0\n",
      "2022-08-03 17:19:57,284 : INFO : EPOCH 11: training on 9227204 raw words (8221910 effective words) took 8.4s, 979122 effective words/s\n",
      "2022-08-03 17:19:58,322 : INFO : EPOCH 12 - PROGRESS: at 11.51% examples, 934009 words/s, in_qsize 15, out_qsize 0\n",
      "2022-08-03 17:19:59,344 : INFO : EPOCH 12 - PROGRESS: at 23.42% examples, 946341 words/s, in_qsize 15, out_qsize 0\n",
      "2022-08-03 17:20:00,349 : INFO : EPOCH 12 - PROGRESS: at 35.97% examples, 973542 words/s, in_qsize 14, out_qsize 1\n",
      "2022-08-03 17:20:01,361 : INFO : EPOCH 12 - PROGRESS: at 46.78% examples, 950251 words/s, in_qsize 14, out_qsize 1\n",
      "2022-08-03 17:20:02,373 : INFO : EPOCH 12 - PROGRESS: at 56.40% examples, 916864 words/s, in_qsize 15, out_qsize 1\n",
      "2022-08-03 17:20:03,388 : INFO : EPOCH 12 - PROGRESS: at 66.04% examples, 894142 words/s, in_qsize 13, out_qsize 2\n",
      "2022-08-03 17:20:04,404 : INFO : EPOCH 12 - PROGRESS: at 76.22% examples, 884161 words/s, in_qsize 15, out_qsize 1\n",
      "2022-08-03 17:20:05,420 : INFO : EPOCH 12 - PROGRESS: at 86.86% examples, 880986 words/s, in_qsize 15, out_qsize 0\n",
      "2022-08-03 17:20:06,420 : INFO : EPOCH 12 - PROGRESS: at 99.56% examples, 898760 words/s, in_qsize 4, out_qsize 1\n",
      "2022-08-03 17:20:06,450 : INFO : EPOCH 12: training on 9227204 raw words (8223079 effective words) took 9.1s, 899711 effective words/s\n",
      "2022-08-03 17:20:07,485 : INFO : EPOCH 13 - PROGRESS: at 11.73% examples, 955046 words/s, in_qsize 16, out_qsize 0\n",
      "2022-08-03 17:20:08,518 : INFO : EPOCH 13 - PROGRESS: at 23.96% examples, 964596 words/s, in_qsize 14, out_qsize 1\n",
      "2022-08-03 17:20:09,520 : INFO : EPOCH 13 - PROGRESS: at 36.40% examples, 983648 words/s, in_qsize 16, out_qsize 0\n",
      "2022-08-03 17:20:10,529 : INFO : EPOCH 13 - PROGRESS: at 48.19% examples, 978488 words/s, in_qsize 15, out_qsize 0\n",
      "2022-08-03 17:20:11,537 : INFO : EPOCH 13 - PROGRESS: at 60.63% examples, 986097 words/s, in_qsize 14, out_qsize 1\n",
      "2022-08-03 17:20:12,547 : INFO : EPOCH 13 - PROGRESS: at 73.51% examples, 996531 words/s, in_qsize 14, out_qsize 1\n",
      "2022-08-03 17:20:13,558 : INFO : EPOCH 13 - PROGRESS: at 85.77% examples, 996467 words/s, in_qsize 16, out_qsize 1\n",
      "2022-08-03 17:20:14,558 : INFO : EPOCH 13 - PROGRESS: at 98.47% examples, 1002077 words/s, in_qsize 15, out_qsize 0\n",
      "2022-08-03 17:20:14,651 : INFO : EPOCH 13: training on 9227204 raw words (8223523 effective words) took 8.2s, 1006093 effective words/s\n",
      "2022-08-03 17:20:15,665 : INFO : EPOCH 14 - PROGRESS: at 11.40% examples, 934239 words/s, in_qsize 15, out_qsize 0\n",
      "2022-08-03 17:20:16,674 : INFO : EPOCH 14 - PROGRESS: at 23.96% examples, 979043 words/s, in_qsize 13, out_qsize 2\n",
      "2022-08-03 17:20:17,719 : INFO : EPOCH 14 - PROGRESS: at 36.08% examples, 970897 words/s, in_qsize 16, out_qsize 1\n",
      "2022-08-03 17:20:18,724 : INFO : EPOCH 14 - PROGRESS: at 48.51% examples, 982771 words/s, in_qsize 15, out_qsize 0\n",
      "2022-08-03 17:20:19,735 : INFO : EPOCH 14 - PROGRESS: at 60.30% examples, 978458 words/s, in_qsize 15, out_qsize 2\n",
      "2022-08-03 17:20:20,743 : INFO : EPOCH 14 - PROGRESS: at 71.57% examples, 968656 words/s, in_qsize 14, out_qsize 1\n",
      "2022-08-03 17:20:21,744 : INFO : EPOCH 14 - PROGRESS: at 81.55% examples, 947384 words/s, in_qsize 14, out_qsize 1\n",
      "2022-08-03 17:20:22,755 : INFO : EPOCH 14 - PROGRESS: at 91.20% examples, 926952 words/s, in_qsize 15, out_qsize 0\n",
      "2022-08-03 17:20:23,535 : INFO : EPOCH 14: training on 9227204 raw words (8222841 effective words) took 8.9s, 926809 effective words/s\n",
      "2022-08-03 17:20:24,554 : INFO : EPOCH 15 - PROGRESS: at 9.77% examples, 798956 words/s, in_qsize 15, out_qsize 0\n",
      "2022-08-03 17:20:25,555 : INFO : EPOCH 15 - PROGRESS: at 22.22% examples, 910895 words/s, in_qsize 15, out_qsize 0\n",
      "2022-08-03 17:20:26,557 : INFO : EPOCH 15 - PROGRESS: at 33.70% examples, 921312 words/s, in_qsize 16, out_qsize 0\n",
      "2022-08-03 17:20:27,560 : INFO : EPOCH 15 - PROGRESS: at 46.13% examples, 946228 words/s, in_qsize 15, out_qsize 0\n",
      "2022-08-03 17:20:28,582 : INFO : EPOCH 15 - PROGRESS: at 58.58% examples, 957902 words/s, in_qsize 15, out_qsize 0\n",
      "2022-08-03 17:20:29,585 : INFO : EPOCH 15 - PROGRESS: at 70.59% examples, 962457 words/s, in_qsize 15, out_qsize 0\n",
      "2022-08-03 17:20:30,591 : INFO : EPOCH 15 - PROGRESS: at 82.85% examples, 967852 words/s, in_qsize 15, out_qsize 0\n",
      "2022-08-03 17:20:31,599 : INFO : EPOCH 15 - PROGRESS: at 95.66% examples, 977240 words/s, in_qsize 15, out_qsize 0\n",
      "2022-08-03 17:20:31,910 : INFO : EPOCH 15: training on 9227204 raw words (8222663 effective words) took 8.4s, 983612 effective words/s\n",
      "2022-08-03 17:20:32,934 : INFO : EPOCH 16 - PROGRESS: at 12.28% examples, 996448 words/s, in_qsize 14, out_qsize 1\n",
      "2022-08-03 17:20:33,938 : INFO : EPOCH 16 - PROGRESS: at 24.72% examples, 1008237 words/s, in_qsize 15, out_qsize 0\n",
      "2022-08-03 17:20:34,947 : INFO : EPOCH 16 - PROGRESS: at 36.72% examples, 998958 words/s, in_qsize 15, out_qsize 0\n",
      "2022-08-03 17:20:35,962 : INFO : EPOCH 16 - PROGRESS: at 49.05% examples, 999391 words/s, in_qsize 16, out_qsize 0\n",
      "2022-08-03 17:20:36,970 : INFO : EPOCH 16 - PROGRESS: at 61.50% examples, 1002714 words/s, in_qsize 14, out_qsize 1\n",
      "2022-08-03 17:20:37,976 : INFO : EPOCH 16 - PROGRESS: at 73.30% examples, 996479 words/s, in_qsize 15, out_qsize 0\n",
      "2022-08-03 17:20:38,980 : INFO : EPOCH 16 - PROGRESS: at 85.45% examples, 995982 words/s, in_qsize 15, out_qsize 0\n",
      "2022-08-03 17:20:39,989 : INFO : EPOCH 16 - PROGRESS: at 97.61% examples, 994994 words/s, in_qsize 14, out_qsize 1\n",
      "2022-08-03 17:20:40,142 : INFO : EPOCH 16: training on 9227204 raw words (8221699 effective words) took 8.2s, 1000415 effective words/s\n",
      "2022-08-03 17:20:41,163 : INFO : EPOCH 17 - PROGRESS: at 10.64% examples, 868867 words/s, in_qsize 15, out_qsize 0\n",
      "2022-08-03 17:20:42,171 : INFO : EPOCH 17 - PROGRESS: at 20.27% examples, 827534 words/s, in_qsize 15, out_qsize 0\n",
      "2022-08-03 17:20:43,187 : INFO : EPOCH 17 - PROGRESS: at 29.80% examples, 809129 words/s, in_qsize 16, out_qsize 1\n",
      "2022-08-03 17:20:44,199 : INFO : EPOCH 17 - PROGRESS: at 40.94% examples, 833473 words/s, in_qsize 14, out_qsize 1\n",
      "2022-08-03 17:20:45,209 : INFO : EPOCH 17 - PROGRESS: at 53.27% examples, 868049 words/s, in_qsize 15, out_qsize 0\n",
      "2022-08-03 17:20:46,215 : INFO : EPOCH 17 - PROGRESS: at 64.62% examples, 878263 words/s, in_qsize 14, out_qsize 1\n",
      "2022-08-03 17:20:47,242 : INFO : EPOCH 17 - PROGRESS: at 75.13% examples, 872936 words/s, in_qsize 15, out_qsize 0\n",
      "2022-08-03 17:20:48,258 : INFO : EPOCH 17 - PROGRESS: at 86.75% examples, 881075 words/s, in_qsize 15, out_qsize 0\n",
      "2022-08-03 17:20:49,267 : INFO : EPOCH 17 - PROGRESS: at 99.00% examples, 893907 words/s, in_qsize 9, out_qsize 1\n",
      "2022-08-03 17:20:49,308 : INFO : EPOCH 17: training on 9227204 raw words (8223428 effective words) took 9.1s, 898775 effective words/s\n",
      "2022-08-03 17:20:50,345 : INFO : EPOCH 18 - PROGRESS: at 11.40% examples, 915240 words/s, in_qsize 14, out_qsize 1\n",
      "2022-08-03 17:20:51,354 : INFO : EPOCH 18 - PROGRESS: at 23.42% examples, 946916 words/s, in_qsize 14, out_qsize 1\n",
      "2022-08-03 17:20:52,359 : INFO : EPOCH 18 - PROGRESS: at 35.42% examples, 959354 words/s, in_qsize 14, out_qsize 1\n",
      "2022-08-03 17:20:53,386 : INFO : EPOCH 18 - PROGRESS: at 47.43% examples, 960092 words/s, in_qsize 12, out_qsize 3\n",
      "2022-08-03 17:20:54,392 : INFO : EPOCH 18 - PROGRESS: at 59.55% examples, 966628 words/s, in_qsize 13, out_qsize 2\n",
      "2022-08-03 17:20:55,407 : INFO : EPOCH 18 - PROGRESS: at 71.99% examples, 973640 words/s, in_qsize 15, out_qsize 0\n",
      "2022-08-03 17:20:56,420 : INFO : EPOCH 18 - PROGRESS: at 83.83% examples, 971537 words/s, in_qsize 15, out_qsize 0\n",
      "2022-08-03 17:20:57,423 : INFO : EPOCH 18 - PROGRESS: at 95.99% examples, 974384 words/s, in_qsize 16, out_qsize 0\n",
      "2022-08-03 17:20:57,744 : INFO : EPOCH 18: training on 9227204 raw words (8222672 effective words) took 8.4s, 976392 effective words/s\n",
      "2022-08-03 17:20:58,762 : INFO : EPOCH 19 - PROGRESS: at 11.51% examples, 938098 words/s, in_qsize 15, out_qsize 0\n",
      "2022-08-03 17:20:59,767 : INFO : EPOCH 19 - PROGRESS: at 23.74% examples, 969577 words/s, in_qsize 15, out_qsize 0\n",
      "2022-08-03 17:21:00,772 : INFO : EPOCH 19 - PROGRESS: at 35.21% examples, 959808 words/s, in_qsize 15, out_qsize 0\n",
      "2022-08-03 17:21:01,780 : INFO : EPOCH 19 - PROGRESS: at 44.29% examples, 905359 words/s, in_qsize 16, out_qsize 3\n",
      "2022-08-03 17:21:02,786 : INFO : EPOCH 19 - PROGRESS: at 53.48% examples, 874866 words/s, in_qsize 16, out_qsize 0\n",
      "2022-08-03 17:21:03,803 : INFO : EPOCH 19 - PROGRESS: at 62.46% examples, 850005 words/s, in_qsize 16, out_qsize 0\n",
      "2022-08-03 17:21:04,809 : INFO : EPOCH 19 - PROGRESS: at 73.62% examples, 858850 words/s, in_qsize 15, out_qsize 0\n",
      "2022-08-03 17:21:05,811 : INFO : EPOCH 19 - PROGRESS: at 85.99% examples, 878075 words/s, in_qsize 15, out_qsize 0\n",
      "2022-08-03 17:21:06,840 : INFO : EPOCH 19 - PROGRESS: at 97.82% examples, 885438 words/s, in_qsize 16, out_qsize 0\n",
      "2022-08-03 17:21:06,964 : INFO : EPOCH 19: training on 9227204 raw words (8223361 effective words) took 9.2s, 892969 effective words/s\n",
      "2022-08-03 17:21:07,979 : INFO : EPOCH 20 - PROGRESS: at 11.40% examples, 929566 words/s, in_qsize 15, out_qsize 0\n",
      "2022-08-03 17:21:08,982 : INFO : EPOCH 20 - PROGRESS: at 23.74% examples, 971142 words/s, in_qsize 14, out_qsize 1\n",
      "2022-08-03 17:21:09,987 : INFO : EPOCH 20 - PROGRESS: at 35.97% examples, 981348 words/s, in_qsize 15, out_qsize 1\n",
      "2022-08-03 17:21:10,990 : INFO : EPOCH 20 - PROGRESS: at 48.40% examples, 991280 words/s, in_qsize 13, out_qsize 2\n",
      "2022-08-03 17:21:12,000 : INFO : EPOCH 20 - PROGRESS: at 60.96% examples, 997769 words/s, in_qsize 16, out_qsize 0\n",
      "2022-08-03 17:21:13,001 : INFO : EPOCH 20 - PROGRESS: at 73.52% examples, 1003440 words/s, in_qsize 15, out_qsize 0\n",
      "2022-08-03 17:21:14,019 : INFO : EPOCH 20 - PROGRESS: at 85.45% examples, 997442 words/s, in_qsize 14, out_qsize 1\n",
      "2022-08-03 17:21:15,030 : INFO : EPOCH 20 - PROGRESS: at 98.14% examples, 1001513 words/s, in_qsize 14, out_qsize 1\n",
      "2022-08-03 17:21:15,128 : INFO : EPOCH 20: training on 9227204 raw words (8221376 effective words) took 8.2s, 1008178 effective words/s\n",
      "2022-08-03 17:21:16,164 : INFO : EPOCH 21 - PROGRESS: at 11.19% examples, 903962 words/s, in_qsize 16, out_qsize 1\n",
      "2022-08-03 17:21:17,166 : INFO : EPOCH 21 - PROGRESS: at 24.07% examples, 980581 words/s, in_qsize 13, out_qsize 2\n",
      "2022-08-03 17:21:18,188 : INFO : EPOCH 21 - PROGRESS: at 34.46% examples, 932608 words/s, in_qsize 15, out_qsize 0\n",
      "2022-08-03 17:21:19,202 : INFO : EPOCH 21 - PROGRESS: at 42.57% examples, 863979 words/s, in_qsize 14, out_qsize 1\n",
      "2022-08-03 17:21:20,213 : INFO : EPOCH 21 - PROGRESS: at 51.86% examples, 842937 words/s, in_qsize 15, out_qsize 0\n",
      "2022-08-03 17:21:21,224 : INFO : EPOCH 21 - PROGRESS: at 63.76% examples, 863943 words/s, in_qsize 13, out_qsize 2\n",
      "2022-08-03 17:21:22,228 : INFO : EPOCH 21 - PROGRESS: at 76.00% examples, 883601 words/s, in_qsize 15, out_qsize 0\n",
      "2022-08-03 17:21:23,235 : INFO : EPOCH 21 - PROGRESS: at 88.48% examples, 900281 words/s, in_qsize 14, out_qsize 1\n",
      "2022-08-03 17:21:24,199 : INFO : EPOCH 21: training on 9227204 raw words (8224105 effective words) took 9.0s, 908777 effective words/s\n",
      "2022-08-03 17:21:25,214 : INFO : EPOCH 22 - PROGRESS: at 9.45% examples, 774720 words/s, in_qsize 14, out_qsize 1\n",
      "2022-08-03 17:21:26,228 : INFO : EPOCH 22 - PROGRESS: at 21.14% examples, 862119 words/s, in_qsize 15, out_qsize 0\n",
      "2022-08-03 17:21:27,245 : INFO : EPOCH 22 - PROGRESS: at 33.81% examples, 916883 words/s, in_qsize 15, out_qsize 0\n",
      "2022-08-03 17:21:28,256 : INFO : EPOCH 22 - PROGRESS: at 46.13% examples, 938581 words/s, in_qsize 15, out_qsize 0\n",
      "2022-08-03 17:21:29,295 : INFO : EPOCH 22 - PROGRESS: at 58.58% examples, 948428 words/s, in_qsize 16, out_qsize 2\n",
      "2022-08-03 17:21:30,296 : INFO : EPOCH 22 - PROGRESS: at 69.61% examples, 941680 words/s, in_qsize 16, out_qsize 0\n",
      "2022-08-03 17:21:31,308 : INFO : EPOCH 22 - PROGRESS: at 81.77% examples, 947980 words/s, in_qsize 14, out_qsize 2\n",
      "2022-08-03 17:21:32,323 : INFO : EPOCH 22 - PROGRESS: at 94.58% examples, 958889 words/s, in_qsize 15, out_qsize 0\n",
      "2022-08-03 17:21:32,722 : INFO : EPOCH 22: training on 9227204 raw words (8222664 effective words) took 8.5s, 966383 effective words/s\n",
      "2022-08-03 17:21:33,732 : INFO : EPOCH 23 - PROGRESS: at 10.97% examples, 899384 words/s, in_qsize 15, out_qsize 0\n",
      "2022-08-03 17:21:34,732 : INFO : EPOCH 23 - PROGRESS: at 23.63% examples, 970588 words/s, in_qsize 15, out_qsize 0\n",
      "2022-08-03 17:21:35,746 : INFO : EPOCH 23 - PROGRESS: at 35.97% examples, 981175 words/s, in_qsize 14, out_qsize 1\n",
      "2022-08-03 17:21:36,762 : INFO : EPOCH 23 - PROGRESS: at 48.62% examples, 992372 words/s, in_qsize 15, out_qsize 0\n",
      "2022-08-03 17:21:37,763 : INFO : EPOCH 23 - PROGRESS: at 61.28% examples, 1002048 words/s, in_qsize 15, out_qsize 0\n",
      "2022-08-03 17:21:38,770 : INFO : EPOCH 23 - PROGRESS: at 73.30% examples, 998750 words/s, in_qsize 14, out_qsize 1\n",
      "2022-08-03 17:21:39,773 : INFO : EPOCH 23 - PROGRESS: at 85.12% examples, 994385 words/s, in_qsize 13, out_qsize 3\n",
      "2022-08-03 17:21:40,831 : INFO : EPOCH 23 - PROGRESS: at 92.72% examples, 941391 words/s, in_qsize 13, out_qsize 4\n",
      "2022-08-03 17:21:41,510 : INFO : EPOCH 23: training on 9227204 raw words (8222963 effective words) took 8.8s, 936744 effective words/s\n",
      "2022-08-03 17:21:42,537 : INFO : EPOCH 24 - PROGRESS: at 9.34% examples, 754038 words/s, in_qsize 15, out_qsize 0\n",
      "2022-08-03 17:21:43,540 : INFO : EPOCH 24 - PROGRESS: at 21.79% examples, 886410 words/s, in_qsize 15, out_qsize 0\n",
      "2022-08-03 17:21:44,544 : INFO : EPOCH 24 - PROGRESS: at 32.73% examples, 889829 words/s, in_qsize 14, out_qsize 1\n",
      "2022-08-03 17:21:45,549 : INFO : EPOCH 24 - PROGRESS: at 43.54% examples, 888872 words/s, in_qsize 15, out_qsize 0\n",
      "2022-08-03 17:21:46,563 : INFO : EPOCH 24 - PROGRESS: at 53.59% examples, 874571 words/s, in_qsize 15, out_qsize 0\n",
      "2022-08-03 17:21:47,580 : INFO : EPOCH 24 - PROGRESS: at 65.06% examples, 883586 words/s, in_qsize 15, out_qsize 0\n",
      "2022-08-03 17:21:48,581 : INFO : EPOCH 24 - PROGRESS: at 75.35% examples, 878203 words/s, in_qsize 15, out_qsize 0\n",
      "2022-08-03 17:21:49,581 : INFO : EPOCH 24 - PROGRESS: at 86.20% examples, 879659 words/s, in_qsize 14, out_qsize 1\n",
      "2022-08-03 17:21:50,583 : INFO : EPOCH 24 - PROGRESS: at 95.55% examples, 866936 words/s, in_qsize 15, out_qsize 1\n",
      "2022-08-03 17:21:51,002 : INFO : EPOCH 24: training on 9227204 raw words (8222492 effective words) took 9.5s, 867251 effective words/s\n",
      "2022-08-03 17:21:52,041 : INFO : EPOCH 25 - PROGRESS: at 10.32% examples, 824106 words/s, in_qsize 15, out_qsize 0\n",
      "2022-08-03 17:21:53,041 : INFO : EPOCH 25 - PROGRESS: at 21.25% examples, 861207 words/s, in_qsize 14, out_qsize 1\n",
      "2022-08-03 17:21:54,049 : INFO : EPOCH 25 - PROGRESS: at 32.62% examples, 883262 words/s, in_qsize 16, out_qsize 0\n",
      "2022-08-03 17:21:55,078 : INFO : EPOCH 25 - PROGRESS: at 42.57% examples, 861256 words/s, in_qsize 15, out_qsize 0\n",
      "2022-08-03 17:21:56,083 : INFO : EPOCH 25 - PROGRESS: at 51.96% examples, 843451 words/s, in_qsize 14, out_qsize 1\n",
      "2022-08-03 17:21:57,113 : INFO : EPOCH 25 - PROGRESS: at 62.68% examples, 845625 words/s, in_qsize 16, out_qsize 0\n",
      "2022-08-03 17:21:58,119 : INFO : EPOCH 25 - PROGRESS: at 74.37% examples, 861224 words/s, in_qsize 14, out_qsize 3\n",
      "2022-08-03 17:21:59,128 : INFO : EPOCH 25 - PROGRESS: at 87.07% examples, 882622 words/s, in_qsize 15, out_qsize 0\n",
      "2022-08-03 17:22:00,123 : INFO : EPOCH 25: training on 9227204 raw words (8222042 effective words) took 9.1s, 902637 effective words/s\n",
      "2022-08-03 17:22:01,148 : INFO : EPOCH 26 - PROGRESS: at 11.62% examples, 943825 words/s, in_qsize 15, out_qsize 0\n",
      "2022-08-03 17:22:02,150 : INFO : EPOCH 26 - PROGRESS: at 23.96% examples, 978239 words/s, in_qsize 15, out_qsize 0\n",
      "2022-08-03 17:22:03,155 : INFO : EPOCH 26 - PROGRESS: at 36.94% examples, 1006682 words/s, in_qsize 16, out_qsize 0\n",
      "2022-08-03 17:22:04,156 : INFO : EPOCH 26 - PROGRESS: at 48.95% examples, 1002066 words/s, in_qsize 15, out_qsize 0\n",
      "2022-08-03 17:22:05,157 : INFO : EPOCH 26 - PROGRESS: at 60.85% examples, 997562 words/s, in_qsize 15, out_qsize 0\n",
      "2022-08-03 17:22:06,190 : INFO : EPOCH 26 - PROGRESS: at 73.08% examples, 993619 words/s, in_qsize 16, out_qsize 1\n",
      "2022-08-03 17:22:07,203 : INFO : EPOCH 26 - PROGRESS: at 85.13% examples, 991127 words/s, in_qsize 16, out_qsize 1\n",
      "2022-08-03 17:22:08,205 : INFO : EPOCH 26 - PROGRESS: at 96.96% examples, 988282 words/s, in_qsize 14, out_qsize 1\n",
      "2022-08-03 17:22:08,395 : INFO : EPOCH 26: training on 9227204 raw words (8223487 effective words) took 8.3s, 995822 effective words/s\n",
      "2022-08-03 17:22:09,412 : INFO : EPOCH 27 - PROGRESS: at 11.29% examples, 925824 words/s, in_qsize 15, out_qsize 0\n",
      "2022-08-03 17:22:10,436 : INFO : EPOCH 27 - PROGRESS: at 24.07% examples, 976515 words/s, in_qsize 13, out_qsize 2\n",
      "2022-08-03 17:22:11,443 : INFO : EPOCH 27 - PROGRESS: at 36.29% examples, 984369 words/s, in_qsize 16, out_qsize 0\n",
      "2022-08-03 17:22:12,474 : INFO : EPOCH 27 - PROGRESS: at 47.43% examples, 960330 words/s, in_qsize 15, out_qsize 0\n",
      "2022-08-03 17:22:13,480 : INFO : EPOCH 27 - PROGRESS: at 59.23% examples, 961567 words/s, in_qsize 15, out_qsize 0\n",
      "2022-08-03 17:22:14,487 : INFO : EPOCH 27 - PROGRESS: at 69.18% examples, 937016 words/s, in_qsize 15, out_qsize 0\n",
      "2022-08-03 17:22:15,491 : INFO : EPOCH 27 - PROGRESS: at 81.01% examples, 941218 words/s, in_qsize 14, out_qsize 1\n",
      "2022-08-03 17:22:16,499 : INFO : EPOCH 27 - PROGRESS: at 93.16% examples, 947191 words/s, in_qsize 15, out_qsize 0\n",
      "2022-08-03 17:22:17,023 : INFO : EPOCH 27: training on 9227204 raw words (8222925 effective words) took 8.6s, 954798 effective words/s\n",
      "2022-08-03 17:22:18,068 : INFO : EPOCH 28 - PROGRESS: at 11.29% examples, 899347 words/s, in_qsize 15, out_qsize 0\n",
      "2022-08-03 17:22:19,079 : INFO : EPOCH 28 - PROGRESS: at 24.06% examples, 968898 words/s, in_qsize 13, out_qsize 2\n",
      "2022-08-03 17:22:20,088 : INFO : EPOCH 28 - PROGRESS: at 35.00% examples, 943313 words/s, in_qsize 15, out_qsize 1\n",
      "2022-08-03 17:22:21,095 : INFO : EPOCH 28 - PROGRESS: at 44.51% examples, 902211 words/s, in_qsize 16, out_qsize 0\n",
      "2022-08-03 17:22:22,129 : INFO : EPOCH 28 - PROGRESS: at 53.92% examples, 871273 words/s, in_qsize 16, out_qsize 3\n",
      "2022-08-03 17:22:23,131 : INFO : EPOCH 28 - PROGRESS: at 66.04% examples, 891784 words/s, in_qsize 16, out_qsize 0\n",
      "2022-08-03 17:22:24,164 : INFO : EPOCH 28 - PROGRESS: at 78.51% examples, 906228 words/s, in_qsize 16, out_qsize 0\n",
      "2022-08-03 17:22:25,196 : INFO : EPOCH 28 - PROGRESS: at 91.31% examples, 920322 words/s, in_qsize 15, out_qsize 0\n",
      "2022-08-03 17:22:25,881 : INFO : EPOCH 28: training on 9227204 raw words (8222226 effective words) took 8.8s, 929831 effective words/s\n",
      "2022-08-03 17:22:26,919 : INFO : EPOCH 29 - PROGRESS: at 10.86% examples, 870129 words/s, in_qsize 14, out_qsize 1\n",
      "2022-08-03 17:22:27,926 : INFO : EPOCH 29 - PROGRESS: at 23.31% examples, 942820 words/s, in_qsize 14, out_qsize 1\n",
      "2022-08-03 17:22:28,946 : INFO : EPOCH 29 - PROGRESS: at 34.89% examples, 940071 words/s, in_qsize 15, out_qsize 0\n",
      "2022-08-03 17:22:29,954 : INFO : EPOCH 29 - PROGRESS: at 47.21% examples, 956847 words/s, in_qsize 15, out_qsize 0\n",
      "2022-08-03 17:22:30,956 : INFO : EPOCH 29 - PROGRESS: at 58.90% examples, 957416 words/s, in_qsize 15, out_qsize 0\n",
      "2022-08-03 17:22:31,962 : INFO : EPOCH 29 - PROGRESS: at 71.45% examples, 968978 words/s, in_qsize 15, out_qsize 0\n",
      "2022-08-03 17:22:32,974 : INFO : EPOCH 29 - PROGRESS: at 83.94% examples, 975143 words/s, in_qsize 15, out_qsize 0\n",
      "2022-08-03 17:22:33,994 : INFO : EPOCH 29 - PROGRESS: at 95.77% examples, 972103 words/s, in_qsize 14, out_qsize 1\n",
      "2022-08-03 17:22:34,314 : INFO : EPOCH 29: training on 9227204 raw words (8222127 effective words) took 8.4s, 976550 effective words/s\n",
      "2022-08-03 17:22:35,357 : INFO : EPOCH 30 - PROGRESS: at 9.55% examples, 781454 words/s, in_qsize 14, out_qsize 2\n",
      "2022-08-03 17:22:36,361 : INFO : EPOCH 30 - PROGRESS: at 18.54% examples, 754031 words/s, in_qsize 13, out_qsize 2\n",
      "2022-08-03 17:22:37,378 : INFO : EPOCH 30 - PROGRESS: at 29.70% examples, 803949 words/s, in_qsize 15, out_qsize 0\n",
      "2022-08-03 17:22:38,378 : INFO : EPOCH 30 - PROGRESS: at 41.80% examples, 851864 words/s, in_qsize 14, out_qsize 1\n",
      "2022-08-03 17:22:39,394 : INFO : EPOCH 30 - PROGRESS: at 54.03% examples, 879946 words/s, in_qsize 15, out_qsize 0\n",
      "2022-08-03 17:22:40,402 : INFO : EPOCH 30 - PROGRESS: at 65.82% examples, 893775 words/s, in_qsize 13, out_qsize 2\n",
      "2022-08-03 17:22:41,414 : INFO : EPOCH 30 - PROGRESS: at 77.63% examples, 903151 words/s, in_qsize 15, out_qsize 0\n",
      "2022-08-03 17:22:42,434 : INFO : EPOCH 30 - PROGRESS: at 90.11% examples, 915817 words/s, in_qsize 16, out_qsize 0\n",
      "2022-08-03 17:22:43,200 : INFO : EPOCH 30: training on 9227204 raw words (8222638 effective words) took 8.9s, 928273 effective words/s\n",
      "2022-08-03 17:22:44,218 : INFO : EPOCH 31 - PROGRESS: at 11.95% examples, 976175 words/s, in_qsize 15, out_qsize 0\n",
      "2022-08-03 17:22:45,227 : INFO : EPOCH 31 - PROGRESS: at 24.17% examples, 986867 words/s, in_qsize 14, out_qsize 1\n",
      "2022-08-03 17:22:46,235 : INFO : EPOCH 31 - PROGRESS: at 36.61% examples, 996732 words/s, in_qsize 16, out_qsize 0\n",
      "2022-08-03 17:22:47,249 : INFO : EPOCH 31 - PROGRESS: at 48.62% examples, 991341 words/s, in_qsize 14, out_qsize 1\n",
      "2022-08-03 17:22:48,268 : INFO : EPOCH 31 - PROGRESS: at 60.52% examples, 985515 words/s, in_qsize 14, out_qsize 1\n",
      "2022-08-03 17:22:49,271 : INFO : EPOCH 31 - PROGRESS: at 70.91% examples, 963393 words/s, in_qsize 13, out_qsize 2\n",
      "2022-08-03 17:22:50,281 : INFO : EPOCH 31 - PROGRESS: at 81.55% examples, 949224 words/s, in_qsize 15, out_qsize 0\n",
      "2022-08-03 17:22:51,284 : INFO : EPOCH 31 - PROGRESS: at 93.70% examples, 954693 words/s, in_qsize 15, out_qsize 0\n",
      "2022-08-03 17:22:51,787 : INFO : EPOCH 31: training on 9227204 raw words (8222466 effective words) took 8.6s, 959147 effective words/s\n",
      "2022-08-03 17:22:51,788 : INFO : Word2Vec lifecycle event {'msg': 'training on 295270528 raw words (263126747 effective words) took 281.1s, 935897 effective words/s', 'datetime': '2022-08-03T17:22:51.788236', 'gensim': '4.2.0', 'python': '3.6.9 (default, Jan 26 2021, 15:33:00) \\n[GCC 8.4.0]', 'platform': 'Linux-5.4.0-89-generic-x86_64-with-Ubuntu-18.04-bionic', 'event': 'train'}\n"
     ]
    },
    {
     "name": "stdout",
     "output_type": "stream",
     "text": [
      "CPU times: user 23min 27s, sys: 6.09 s, total: 23min 33s\n",
      "Wall time: 4min 41s\n"
     ]
    },
    {
     "data": {
      "text/plain": [
       "(263126747, 295270528)"
      ]
     },
     "execution_count": 19,
     "metadata": {},
     "output_type": "execute_result"
    }
   ],
   "source": [
    "%%time\n",
    "w2v_model.train(documents, total_examples=len(documents), epochs=W2V_EPOCH)"
   ]
  },
  {
   "cell_type": "code",
   "execution_count": 20,
   "id": "44eeb4d4-6bbc-4a90-a725-3a7f2b3445bc",
   "metadata": {},
   "outputs": [
    {
     "data": {
      "text/plain": [
       "[('luv', 0.5689023733139038),\n",
       " ('loves', 0.5487812161445618),\n",
       " ('loved', 0.5396385788917542),\n",
       " ('adore', 0.5287768840789795),\n",
       " ('amazing', 0.5131515860557556),\n",
       " ('looove', 0.49581748247146606),\n",
       " ('loveee', 0.47624102234840393),\n",
       " ('awesome', 0.46104368567466736),\n",
       " ('miss', 0.433794766664505),\n",
       " ('lovee', 0.4335745573043823)]"
      ]
     },
     "execution_count": 20,
     "metadata": {},
     "output_type": "execute_result"
    }
   ],
   "source": [
    "w2v_model.wv.most_similar(\"love\")"
   ]
  },
  {
   "cell_type": "code",
   "execution_count": 21,
   "id": "d2bb26ce-4b9c-4e81-98a7-a73e4dad000b",
   "metadata": {},
   "outputs": [
    {
     "name": "stdout",
     "output_type": "stream",
     "text": [
      "Total words 290419\n",
      "CPU times: user 18.6 s, sys: 449 ms, total: 19.1 s\n",
      "Wall time: 18.6 s\n"
     ]
    }
   ],
   "source": [
    "%%time\n",
    "tokenizer = Tokenizer()\n",
    "tokenizer.fit_on_texts(df_train.text)\n",
    "\n",
    "vocab_size = len(tokenizer.word_index) + 1\n",
    "print(\"Total words\", vocab_size)"
   ]
  },
  {
   "cell_type": "code",
   "execution_count": 22,
   "id": "57252c69-1e8c-4802-a61b-fc2644daf9dd",
   "metadata": {},
   "outputs": [
    {
     "name": "stdout",
     "output_type": "stream",
     "text": [
      "CPU times: user 28.5 s, sys: 820 ms, total: 29.3 s\n",
      "Wall time: 29.3 s\n"
     ]
    }
   ],
   "source": [
    "%%time\n",
    "x_train = pad_sequences(tokenizer.texts_to_sequences(df_train.text), maxlen=SEQUENCE_LENGTH)\n",
    "x_test = pad_sequences(tokenizer.texts_to_sequences(df_test.text), maxlen=SEQUENCE_LENGTH)"
   ]
  },
  {
   "cell_type": "code",
   "execution_count": 23,
   "id": "c8952f80-fc84-4a86-a3f2-4db259e2a692",
   "metadata": {},
   "outputs": [
    {
     "data": {
      "text/plain": [
       "['POSITIVE', 'NEGATIVE', 'NEUTRAL']"
      ]
     },
     "execution_count": 23,
     "metadata": {},
     "output_type": "execute_result"
    }
   ],
   "source": [
    "labels = df_train.target.unique().tolist()\n",
    "labels.append(NEUTRAL)\n",
    "labels"
   ]
  },
  {
   "cell_type": "code",
   "execution_count": 24,
   "id": "f0ff3394-c0e1-4ed4-9390-e68b5eaa6792",
   "metadata": {},
   "outputs": [
    {
     "name": "stdout",
     "output_type": "stream",
     "text": [
      "y_train (1280000, 1)\n",
      "y_test (320000, 1)\n"
     ]
    }
   ],
   "source": [
    "encoder = LabelEncoder()\n",
    "encoder.fit(df_train.target.tolist())\n",
    "\n",
    "y_train = encoder.transform(df_train.target.tolist())\n",
    "y_test = encoder.transform(df_test.target.tolist())\n",
    "\n",
    "y_train = y_train.reshape(-1,1)\n",
    "y_test = y_test.reshape(-1,1)\n",
    "\n",
    "print(\"y_train\",y_train.shape)\n",
    "print(\"y_test\",y_test.shape)"
   ]
  },
  {
   "cell_type": "code",
   "execution_count": 25,
   "id": "206fc29e-02c2-4f7e-a89b-21e1758cbe1c",
   "metadata": {},
   "outputs": [
    {
     "name": "stdout",
     "output_type": "stream",
     "text": [
      "x_train (1280000, 300)\n",
      "y_train (1280000, 1)\n",
      "\n",
      "x_test (320000, 300)\n",
      "y_test (320000, 1)\n"
     ]
    }
   ],
   "source": [
    "print(\"x_train\", x_train.shape)\n",
    "print(\"y_train\", y_train.shape)\n",
    "print()\n",
    "print(\"x_test\", x_test.shape)\n",
    "print(\"y_test\", y_test.shape)"
   ]
  },
  {
   "cell_type": "code",
   "execution_count": 26,
   "id": "a84acd05-cd8b-4027-8fef-0113bcfcb322",
   "metadata": {},
   "outputs": [
    {
     "data": {
      "text/plain": [
       "array([[1],\n",
       "       [1],\n",
       "       [1],\n",
       "       [0],\n",
       "       [1],\n",
       "       [1],\n",
       "       [1],\n",
       "       [1],\n",
       "       [1],\n",
       "       [1]])"
      ]
     },
     "execution_count": 26,
     "metadata": {},
     "output_type": "execute_result"
    }
   ],
   "source": [
    "y_train[:10]"
   ]
  },
  {
   "cell_type": "code",
   "execution_count": 27,
   "id": "4fe472b5-342b-4c58-8a72-9cef73ba590f",
   "metadata": {},
   "outputs": [
    {
     "name": "stdout",
     "output_type": "stream",
     "text": [
      "(290419, 300)\n"
     ]
    }
   ],
   "source": [
    "embedding_matrix = np.zeros((vocab_size, W2V_SIZE))\n",
    "for word, i in tokenizer.word_index.items():\n",
    "  if word in w2v_model.wv:\n",
    "    embedding_matrix[i] = w2v_model.wv[word]\n",
    "print(embedding_matrix.shape)"
   ]
  },
  {
   "cell_type": "code",
   "execution_count": 28,
   "id": "049ecae4-1a19-478e-ae26-4450125034ba",
   "metadata": {},
   "outputs": [],
   "source": [
    "embedding_layer = Embedding(vocab_size, W2V_SIZE, weights=[embedding_matrix], input_length=SEQUENCE_LENGTH, trainable=False)"
   ]
  },
  {
   "cell_type": "code",
   "execution_count": 29,
   "id": "1e89e7bc-2b57-4b3a-8e26-51b48703f67a",
   "metadata": {},
   "outputs": [
    {
     "name": "stdout",
     "output_type": "stream",
     "text": [
      "WARNING:tensorflow:Layer lstm will not use cuDNN kernel since it doesn't meet the cuDNN kernel criteria. It will use generic GPU kernel as fallback when running on GPU\n"
     ]
    },
    {
     "name": "stderr",
     "output_type": "stream",
     "text": [
      "2022-08-03 17:23:43,679 : WARNING : Layer lstm will not use cuDNN kernel since it doesn't meet the cuDNN kernel criteria. It will use generic GPU kernel as fallback when running on GPU\n"
     ]
    },
    {
     "name": "stdout",
     "output_type": "stream",
     "text": [
      "Model: \"sequential\"\n",
      "_________________________________________________________________\n",
      "Layer (type)                 Output Shape              Param #   \n",
      "=================================================================\n",
      "embedding (Embedding)        (None, 300, 300)          87125700  \n",
      "_________________________________________________________________\n",
      "dropout (Dropout)            (None, 300, 300)          0         \n",
      "_________________________________________________________________\n",
      "lstm (LSTM)                  (None, 100)               160400    \n",
      "_________________________________________________________________\n",
      "dense (Dense)                (None, 1)                 101       \n",
      "=================================================================\n",
      "Total params: 87,286,201\n",
      "Trainable params: 160,501\n",
      "Non-trainable params: 87,125,700\n",
      "_________________________________________________________________\n"
     ]
    }
   ],
   "source": [
    "model = Sequential()\n",
    "model.add(embedding_layer)\n",
    "model.add(Dropout(0.5))\n",
    "model.add(LSTM(100, dropout=0.2, recurrent_dropout=0.2))\n",
    "model.add(Dense(1, activation='sigmoid'))\n",
    "\n",
    "model.summary()"
   ]
  },
  {
   "cell_type": "code",
   "execution_count": 30,
   "id": "9f11f744-e55b-4859-b1d3-334ddd6767ec",
   "metadata": {},
   "outputs": [],
   "source": [
    "model.compile(loss='binary_crossentropy',\n",
    "              optimizer=\"adam\",\n",
    "              metrics=['accuracy'])"
   ]
  },
  {
   "cell_type": "code",
   "execution_count": 31,
   "id": "59b24882-4658-437f-be47-7240dde1b3dd",
   "metadata": {},
   "outputs": [],
   "source": [
    "callbacks = [ ReduceLROnPlateau(monitor='val_loss', patience=5, cooldown=0),\n",
    "              EarlyStopping(monitor='val_accuracy', min_delta=1e-4, patience=5)]"
   ]
  },
  {
   "cell_type": "code",
   "execution_count": 32,
   "id": "9b45c755-b99b-4e24-9a8e-d661e33759ea",
   "metadata": {},
   "outputs": [
    {
     "name": "stdout",
     "output_type": "stream",
     "text": [
      "Epoch 1/15\n",
      "1125/1125 [==============================] - 543s 480ms/step - loss: 0.5255 - accuracy: 0.7331 - val_loss: 0.4669 - val_accuracy: 0.7786\n",
      "Epoch 2/15\n",
      "1125/1125 [==============================] - 537s 477ms/step - loss: 0.4796 - accuracy: 0.7667 - val_loss: 0.4562 - val_accuracy: 0.7843\n",
      "Epoch 3/15\n",
      "1125/1125 [==============================] - 536s 477ms/step - loss: 0.4713 - accuracy: 0.7718 - val_loss: 0.4522 - val_accuracy: 0.7865\n",
      "Epoch 4/15\n",
      "1125/1125 [==============================] - 538s 478ms/step - loss: 0.4683 - accuracy: 0.7740 - val_loss: 0.4519 - val_accuracy: 0.7877\n",
      "Epoch 5/15\n",
      "1125/1125 [==============================] - 542s 482ms/step - loss: 0.4648 - accuracy: 0.7761 - val_loss: 0.4510 - val_accuracy: 0.7886\n",
      "Epoch 6/15\n",
      "1125/1125 [==============================] - 541s 481ms/step - loss: 0.4629 - accuracy: 0.7777 - val_loss: 0.4476 - val_accuracy: 0.7887\n",
      "Epoch 7/15\n",
      "1125/1125 [==============================] - 541s 481ms/step - loss: 0.4615 - accuracy: 0.7782 - val_loss: 0.4469 - val_accuracy: 0.7901\n",
      "Epoch 8/15\n",
      "1125/1125 [==============================] - 541s 481ms/step - loss: 0.4605 - accuracy: 0.7786 - val_loss: 0.4479 - val_accuracy: 0.7905\n",
      "Epoch 9/15\n",
      "1125/1125 [==============================] - 541s 481ms/step - loss: 0.4591 - accuracy: 0.7801 - val_loss: 0.4460 - val_accuracy: 0.7903\n",
      "Epoch 10/15\n",
      "1125/1125 [==============================] - 539s 479ms/step - loss: 0.4589 - accuracy: 0.7796 - val_loss: 0.4458 - val_accuracy: 0.7909\n",
      "Epoch 11/15\n",
      "1125/1125 [==============================] - 537s 477ms/step - loss: 0.4583 - accuracy: 0.7806 - val_loss: 0.4462 - val_accuracy: 0.7907\n",
      "Epoch 12/15\n",
      "1125/1125 [==============================] - 536s 476ms/step - loss: 0.4578 - accuracy: 0.7808 - val_loss: 0.4467 - val_accuracy: 0.7909\n",
      "Epoch 13/15\n",
      "1125/1125 [==============================] - 536s 476ms/step - loss: 0.4570 - accuracy: 0.7811 - val_loss: 0.4445 - val_accuracy: 0.7916\n",
      "Epoch 14/15\n",
      "1125/1125 [==============================] - 535s 476ms/step - loss: 0.4569 - accuracy: 0.7813 - val_loss: 0.4453 - val_accuracy: 0.7915\n",
      "Epoch 15/15\n",
      "1125/1125 [==============================] - 537s 477ms/step - loss: 0.4559 - accuracy: 0.7822 - val_loss: 0.4438 - val_accuracy: 0.7924\n",
      "CPU times: user 3h 18min 41s, sys: 7min 22s, total: 3h 26min 3s\n",
      "Wall time: 2h 14min 40s\n"
     ]
    }
   ],
   "source": [
    "%%time\n",
    "history = model.fit(x_train, y_train,\n",
    "                    batch_size=BATCH_SIZE,\n",
    "                    epochs=EPOCHS,\n",
    "                    validation_split=0.1,\n",
    "                    verbose=1,\n",
    "                    callbacks=callbacks)"
   ]
  },
  {
   "cell_type": "code",
   "execution_count": 33,
   "id": "cdfa4d18-8ebc-4883-975e-cbdbc9b822f0",
   "metadata": {},
   "outputs": [
    {
     "name": "stdout",
     "output_type": "stream",
     "text": [
      "313/313 [==============================] - 47s 148ms/step - loss: 0.4425 - accuracy: 0.7926\n",
      "\n",
      "ACCURACY: 0.7926375269889832\n",
      "LOSS: 0.4424968659877777\n",
      "CPU times: user 1min 20s, sys: 1.63 s, total: 1min 21s\n",
      "Wall time: 46.9 s\n"
     ]
    }
   ],
   "source": [
    "%%time\n",
    "score = model.evaluate(x_test, y_test, batch_size=BATCH_SIZE)\n",
    "print()\n",
    "print(\"ACCURACY:\",score[1])\n",
    "print(\"LOSS:\",score[0])"
   ]
  },
  {
   "cell_type": "code",
   "execution_count": 34,
   "id": "80e79960-4a99-4216-83b8-0483d211c177",
   "metadata": {},
   "outputs": [
    {
     "data": {
      "image/png": "[encoded data removed]",
      "text/plain": [
       "<Figure size 432x288 with 1 Axes>"
      ]
     },
     "metadata": {
      "needs_background": "light"
     },
     "output_type": "display_data"
    },
    {
     "data": {
      "image/png": "[encoded data removed]",
      "text/plain": [
       "<Figure size 432x288 with 1 Axes>"
      ]
     },
     "metadata": {
      "needs_background": "light"
     },
     "output_type": "display_data"
    }
   ],
   "source": [
    "acc = history.history['accuracy']\n",
    "val_acc = history.history['val_accuracy']\n",
    "loss = history.history['loss']\n",
    "val_loss = history.history['val_loss']\n",
    " \n",
    "epochs = range(len(acc))\n",
    " \n",
    "plt.plot(epochs, acc, 'b', label='Training acc')\n",
    "plt.plot(epochs, val_acc, 'r', label='Validation acc')\n",
    "plt.title('Training and validation accuracy')\n",
    "plt.legend()\n",
    " \n",
    "plt.figure()\n",
    " \n",
    "plt.plot(epochs, loss, 'b', label='Training loss')\n",
    "plt.plot(epochs, val_loss, 'r', label='Validation loss')\n",
    "plt.title('Training and validation loss')\n",
    "plt.legend()\n",
    " \n",
    "plt.show()"
   ]
  },
  {
   "cell_type": "code",
   "execution_count": 35,
   "id": "43ef2fca-1166-47fa-b13f-521833ddebef",
   "metadata": {},
   "outputs": [],
   "source": [
    "def decode_sentiment(score, include_neutral=True):\n",
    "    if include_neutral:        \n",
    "        label = NEUTRAL\n",
    "        if score <= SENTIMENT_THRESHOLDS[0]:\n",
    "            label = NEGATIVE\n",
    "        elif score >= SENTIMENT_THRESHOLDS[1]:\n",
    "            label = POSITIVE\n",
    "\n",
    "        return label\n",
    "    else:\n",
    "        return NEGATIVE if score < 0.5 else POSITIVE"
   ]
  },
  {
   "cell_type": "code",
   "execution_count": 36,
   "id": "9db66e78-f194-47a1-be68-b7cf9c0d4412",
   "metadata": {},
   "outputs": [],
   "source": [
    "def predict(text, include_neutral=True):\n",
    "    start_at = time.time()\n",
    "    # Tokenize text\n",
    "    x_test = pad_sequences(tokenizer.texts_to_sequences([text]), maxlen=SEQUENCE_LENGTH)\n",
    "    # Predict\n",
    "    score = model.predict([x_test])[0]\n",
    "    # Decode sentiment\n",
    "    label = decode_sentiment(score, include_neutral=include_neutral)\n",
    "\n",
    "    return {\"label\": label, \"score\": float(score),\n",
    "       \"elapsed_time\": time.time()-start_at}  "
   ]
  },
  {
   "cell_type": "code",
   "execution_count": 37,
   "id": "e7aeaf37-a01c-4d11-a4dd-80d2ac111124",
   "metadata": {},
   "outputs": [
    {
     "data": {
      "text/plain": [
       "{'label': 'POSITIVE',\n",
       " 'score': 0.9730955362319946,\n",
       " 'elapsed_time': 0.33366918563842773}"
      ]
     },
     "execution_count": 37,
     "metadata": {},
     "output_type": "execute_result"
    }
   ],
   "source": [
    "predict(\"I love the music\")"
   ]
  },
  {
   "cell_type": "code",
   "execution_count": 38,
   "id": "25a064e9-1784-4b26-bc61-2c98e66dc974",
   "metadata": {},
   "outputs": [
    {
     "data": {
      "text/plain": [
       "{'label': 'NEGATIVE',\n",
       " 'score': 0.012879985384643078,\n",
       " 'elapsed_time': 0.10443353652954102}"
      ]
     },
     "execution_count": 38,
     "metadata": {},
     "output_type": "execute_result"
    }
   ],
   "source": [
    "predict(\"I hate the rain\")"
   ]
  },
  {
   "cell_type": "code",
   "execution_count": 39,
   "id": "06ad07a7-fbd2-49f7-8216-4427409d5451",
   "metadata": {},
   "outputs": [
    {
     "data": {
      "text/plain": [
       "{'label': 'NEGATIVE',\n",
       " 'score': 0.35166487097740173,\n",
       " 'elapsed_time': 0.10974621772766113}"
      ]
     },
     "execution_count": 39,
     "metadata": {},
     "output_type": "execute_result"
    }
   ],
   "source": [
    "predict(\"i don't know what i'm doing\")"
   ]
  },
  {
   "cell_type": "code",
   "execution_count": 40,
   "id": "b22b137c-dd64-4cd2-9ff3-6efa55415990",
   "metadata": {},
   "outputs": [
    {
     "name": "stdout",
     "output_type": "stream",
     "text": [
      "40/40 [==============================] - 42s 979ms/step\n",
      "CPU times: user 1min 9s, sys: 12.4 s, total: 1min 21s\n",
      "Wall time: 42.5 s\n"
     ]
    }
   ],
   "source": [
    "%%time\n",
    "y_pred_1d = []\n",
    "y_test_1d = list(df_test.target)\n",
    "scores = model.predict(x_test, verbose=1, batch_size=8000)\n",
    "y_pred_1d = [decode_sentiment(score, include_neutral=False) for score in scores]"
   ]
  },
  {
   "cell_type": "code",
   "execution_count": 41,
   "id": "e80a8d04-d09c-4c2b-8d43-b79b729da825",
   "metadata": {},
   "outputs": [],
   "source": [
    "def plot_confusion_matrix(cm, classes,\n",
    "                          title='Confusion matrix',\n",
    "                          cmap=plt.cm.Blues):\n",
    "    \"\"\"\n",
    "    This function prints and plots the confusion matrix.\n",
    "    Normalization can be applied by setting `normalize=True`.\n",
    "    \"\"\"\n",
    "\n",
    "    cm = cm.astype('float') / cm.sum(axis=1)[:, np.newaxis]\n",
    "\n",
    "    plt.imshow(cm, interpolation='nearest', cmap=cmap)\n",
    "    plt.title(title, fontsize=30)\n",
    "    plt.colorbar()\n",
    "    tick_marks = np.arange(len(classes))\n",
    "    plt.xticks(tick_marks, classes, rotation=90, fontsize=22)\n",
    "    plt.yticks(tick_marks, classes, fontsize=22)\n",
    "\n",
    "    fmt = '.2f'\n",
    "    thresh = cm.max() / 2.\n",
    "    for i, j in itertools.product(range(cm.shape[0]), range(cm.shape[1])):\n",
    "        plt.text(j, i, format(cm[i, j], fmt),\n",
    "                 horizontalalignment=\"center\",\n",
    "                 color=\"white\" if cm[i, j] > thresh else \"black\")\n",
    "\n",
    "    plt.ylabel('True label', fontsize=25)\n",
    "    plt.xlabel('Predicted label', fontsize=25)"
   ]
  },
  {
   "cell_type": "code",
   "execution_count": 42,
   "id": "1cbd14be-0dfe-4d01-9c04-85cc6dbcb0f7",
   "metadata": {},
   "outputs": [
    {
     "data": {
      "image/png": "[encoded data removed]",
      "text/plain": [
       "<Figure size 864x864 with 2 Axes>"
      ]
     },
     "metadata": {
      "needs_background": "light"
     },
     "output_type": "display_data"
    },
    {
     "name": "stdout",
     "output_type": "stream",
     "text": [
      "CPU times: user 1.08 s, sys: 72.3 ms, total: 1.15 s\n",
      "Wall time: 1.15 s\n"
     ]
    }
   ],
   "source": [
    "%%time\n",
    "\n",
    "cnf_matrix = confusion_matrix(y_test_1d, y_pred_1d)\n",
    "plt.figure(figsize=(12,12))\n",
    "plot_confusion_matrix(cnf_matrix, classes=df_train.target.unique(), title=\"Confusion matrix\")\n",
    "plt.show()"
   ]
  },
  {
   "cell_type": "code",
   "execution_count": 43,
   "id": "f2495d8d-99cf-4230-a8fb-f71032a4a1c2",
   "metadata": {},
   "outputs": [
    {
     "name": "stdout",
     "output_type": "stream",
     "text": [
      "              precision    recall  f1-score   support\n",
      "\n",
      "    NEGATIVE       0.80      0.78      0.79    159494\n",
      "    POSITIVE       0.79      0.80      0.80    160506\n",
      "\n",
      "    accuracy                           0.79    320000\n",
      "   macro avg       0.79      0.79      0.79    320000\n",
      "weighted avg       0.79      0.79      0.79    320000\n",
      "\n"
     ]
    }
   ],
   "source": [
    "print(classification_report(y_test_1d, y_pred_1d))"
   ]
  },
  {
   "cell_type": "code",
   "execution_count": 44,
   "id": "e0baf81f-2fe4-4b4e-80da-2ebac5c0df80",
   "metadata": {},
   "outputs": [
    {
     "data": {
      "text/plain": [
       "0.7926375"
      ]
     },
     "execution_count": 44,
     "metadata": {},
     "output_type": "execute_result"
    }
   ],
   "source": [
    "accuracy_score(y_test_1d, y_pred_1d)"
   ]
  },
  {
   "cell_type": "code",
   "execution_count": 45,
   "id": "a7a6e7bf-a82e-44da-904f-752af0085625",
   "metadata": {},
   "outputs": [
    {
     "name": "stderr",
     "output_type": "stream",
     "text": [
      "2022-08-03 19:40:03,236 : INFO : Word2Vec lifecycle event {'fname_or_handle': 'model.w2v', 'separately': 'None', 'sep_limit': 10485760, 'ignore': frozenset(), 'datetime': '2022-08-03T19:40:03.236338', 'gensim': '4.2.0', 'python': '3.6.9 (default, Jan 26 2021, 15:33:00) \\n[GCC 8.4.0]', 'platform': 'Linux-5.4.0-89-generic-x86_64-with-Ubuntu-18.04-bionic', 'event': 'saving'}\n",
      "2022-08-03 19:40:03,237 : INFO : not storing attribute cum_table\n",
      "2022-08-03 19:40:03,544 : INFO : saved model.w2v\n"
     ]
    }
   ],
   "source": [
    "model.save(KERAS_MODEL)\n",
    "w2v_model.save(WORD2VEC_MODEL)\n",
    "pickle.dump(tokenizer, open(TOKENIZER_MODEL, \"wb\"), protocol=0)\n",
    "pickle.dump(encoder, open(ENCODER_MODEL, \"wb\"), protocol=0)"
   ]
  },
  {
   "cell_type": "code",
   "execution_count": null,
   "id": "d32f682c-0d8f-48b8-9862-cc0e6ac1f798",
   "metadata": {},
   "outputs": [],
   "source": []
  }
 ],
 "metadata": {
  "kernelspec": {
   "display_name": "Python 3",
   "language": "python",
   "name": "python3"
  },
  "language_info": {
   "codemirror_mode": {
    "name": "ipython",
    "version": 3
   },
   "file_extension": ".py",
   "mimetype": "text/x-python",
   "name": "python",
   "nbconvert_exporter": "python",
   "pygments_lexer": "ipython3",
   "version": "3.6.9"
  }
 },
 "nbformat": 4,
 "nbformat_minor": 5
}
